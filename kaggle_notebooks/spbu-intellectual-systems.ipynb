{
 "cells": [
  {
   "cell_type": "code",
   "execution_count": 1,
   "metadata": {
    "_cell_guid": "c86f9929-a12d-4653-bf0f-47aba6716534",
    "_uuid": "d4c8d997-b4c3-49d5-a043-6fe5fd980e56",
    "execution": {
     "iopub.execute_input": "2021-01-21T01:00:57.932612Z",
     "iopub.status.busy": "2021-01-21T01:00:57.931633Z",
     "iopub.status.idle": "2021-01-21T01:00:57.940592Z",
     "shell.execute_reply": "2021-01-21T01:00:57.941346Z"
    },
    "papermill": {
     "duration": 0.02802,
     "end_time": "2021-01-21T01:00:57.941626",
     "exception": false,
     "start_time": "2021-01-21T01:00:57.913606",
     "status": "completed"
    },
    "tags": []
   },
   "outputs": [
    {
     "name": "stdout",
     "output_type": "stream",
     "text": [
      "/kaggle/input/tabular-playground-series-jan-2021/sample_submission.csv\n",
      "/kaggle/input/tabular-playground-series-jan-2021/train.csv\n",
      "/kaggle/input/tabular-playground-series-jan-2021/test.csv\n"
     ]
    }
   ],
   "source": [
    "# This Python 3 environment comes with many helpful analytics libraries installed\n",
    "# It is defined by the kaggle/python Docker image: https://github.com/kaggle/docker-python\n",
    "# For example, here's several helpful packages to load\n",
    "\n",
    "import numpy as np # linear algebra\n",
    "import pandas as pd # data processing, CSV file I/O (e.g. pd.read_csv)\n",
    "\n",
    "# Input data files are available in the read-only \"../input/\" directory\n",
    "# For example, running this (by clicking run or pressing Shift+Enter) will list all files under the input directory\n",
    "\n",
    "import os\n",
    "for dirname, _, filenames in os.walk('/kaggle/input'):\n",
    "    for filename in filenames:\n",
    "        print(os.path.join(dirname, filename))\n",
    "\n",
    "# You can write up to 20GB to the current directory (/kaggle/working/) that gets preserved as output when you create a version using \"Save & Run All\" \n",
    "# You can also write temporary files to /kaggle/temp/, but they won't be saved outside of the current session"
   ]
  },
  {
   "cell_type": "code",
   "execution_count": 2,
   "metadata": {
    "execution": {
     "iopub.execute_input": "2021-01-21T01:00:57.972944Z",
     "iopub.status.busy": "2021-01-21T01:00:57.971926Z",
     "iopub.status.idle": "2021-01-21T01:01:00.536232Z",
     "shell.execute_reply": "2021-01-21T01:01:00.535452Z"
    },
    "papermill": {
     "duration": 2.580502,
     "end_time": "2021-01-21T01:01:00.536357",
     "exception": false,
     "start_time": "2021-01-21T01:00:57.955855",
     "status": "completed"
    },
    "tags": []
   },
   "outputs": [],
   "source": [
    "from sklearn.ensemble import RandomForestRegressor\n",
    "from sklearn.metrics import mean_squared_error as mse\n",
    "import xgboost as xg "
   ]
  },
  {
   "cell_type": "code",
   "execution_count": 3,
   "metadata": {
    "execution": {
     "iopub.execute_input": "2021-01-21T01:01:00.571922Z",
     "iopub.status.busy": "2021-01-21T01:01:00.571150Z",
     "iopub.status.idle": "2021-01-21T01:01:02.919452Z",
     "shell.execute_reply": "2021-01-21T01:01:02.918261Z"
    },
    "papermill": {
     "duration": 2.3689,
     "end_time": "2021-01-21T01:01:02.919597",
     "exception": false,
     "start_time": "2021-01-21T01:01:00.550697",
     "status": "completed"
    },
    "tags": []
   },
   "outputs": [
    {
     "data": {
      "text/html": [
       "<div>\n",
       "<style scoped>\n",
       "    .dataframe tbody tr th:only-of-type {\n",
       "        vertical-align: middle;\n",
       "    }\n",
       "\n",
       "    .dataframe tbody tr th {\n",
       "        vertical-align: top;\n",
       "    }\n",
       "\n",
       "    .dataframe thead th {\n",
       "        text-align: right;\n",
       "    }\n",
       "</style>\n",
       "<table border=\"1\" class=\"dataframe\">\n",
       "  <thead>\n",
       "    <tr style=\"text-align: right;\">\n",
       "      <th></th>\n",
       "      <th>cont1</th>\n",
       "      <th>cont2</th>\n",
       "      <th>cont3</th>\n",
       "      <th>cont4</th>\n",
       "      <th>cont5</th>\n",
       "      <th>cont6</th>\n",
       "      <th>cont7</th>\n",
       "      <th>cont8</th>\n",
       "      <th>cont9</th>\n",
       "      <th>cont10</th>\n",
       "      <th>cont11</th>\n",
       "      <th>cont12</th>\n",
       "      <th>cont13</th>\n",
       "      <th>cont14</th>\n",
       "      <th>target</th>\n",
       "    </tr>\n",
       "    <tr>\n",
       "      <th>id</th>\n",
       "      <th></th>\n",
       "      <th></th>\n",
       "      <th></th>\n",
       "      <th></th>\n",
       "      <th></th>\n",
       "      <th></th>\n",
       "      <th></th>\n",
       "      <th></th>\n",
       "      <th></th>\n",
       "      <th></th>\n",
       "      <th></th>\n",
       "      <th></th>\n",
       "      <th></th>\n",
       "      <th></th>\n",
       "      <th></th>\n",
       "    </tr>\n",
       "  </thead>\n",
       "  <tbody>\n",
       "    <tr>\n",
       "      <th>1</th>\n",
       "      <td>0.670390</td>\n",
       "      <td>0.811300</td>\n",
       "      <td>0.643968</td>\n",
       "      <td>0.291791</td>\n",
       "      <td>0.284117</td>\n",
       "      <td>0.855953</td>\n",
       "      <td>0.890700</td>\n",
       "      <td>0.285542</td>\n",
       "      <td>0.558245</td>\n",
       "      <td>0.779418</td>\n",
       "      <td>0.921832</td>\n",
       "      <td>0.866772</td>\n",
       "      <td>0.878733</td>\n",
       "      <td>0.305411</td>\n",
       "      <td>7.243043</td>\n",
       "    </tr>\n",
       "    <tr>\n",
       "      <th>3</th>\n",
       "      <td>0.388053</td>\n",
       "      <td>0.621104</td>\n",
       "      <td>0.686102</td>\n",
       "      <td>0.501149</td>\n",
       "      <td>0.643790</td>\n",
       "      <td>0.449805</td>\n",
       "      <td>0.510824</td>\n",
       "      <td>0.580748</td>\n",
       "      <td>0.418335</td>\n",
       "      <td>0.432632</td>\n",
       "      <td>0.439872</td>\n",
       "      <td>0.434971</td>\n",
       "      <td>0.369957</td>\n",
       "      <td>0.369484</td>\n",
       "      <td>8.203331</td>\n",
       "    </tr>\n",
       "    <tr>\n",
       "      <th>4</th>\n",
       "      <td>0.834950</td>\n",
       "      <td>0.227436</td>\n",
       "      <td>0.301584</td>\n",
       "      <td>0.293408</td>\n",
       "      <td>0.606839</td>\n",
       "      <td>0.829175</td>\n",
       "      <td>0.506143</td>\n",
       "      <td>0.558771</td>\n",
       "      <td>0.587603</td>\n",
       "      <td>0.823312</td>\n",
       "      <td>0.567007</td>\n",
       "      <td>0.677708</td>\n",
       "      <td>0.882938</td>\n",
       "      <td>0.303047</td>\n",
       "      <td>7.776091</td>\n",
       "    </tr>\n",
       "    <tr>\n",
       "      <th>5</th>\n",
       "      <td>0.820708</td>\n",
       "      <td>0.160155</td>\n",
       "      <td>0.546887</td>\n",
       "      <td>0.726104</td>\n",
       "      <td>0.282444</td>\n",
       "      <td>0.785108</td>\n",
       "      <td>0.752758</td>\n",
       "      <td>0.823267</td>\n",
       "      <td>0.574466</td>\n",
       "      <td>0.580843</td>\n",
       "      <td>0.769594</td>\n",
       "      <td>0.818143</td>\n",
       "      <td>0.914281</td>\n",
       "      <td>0.279528</td>\n",
       "      <td>6.957716</td>\n",
       "    </tr>\n",
       "    <tr>\n",
       "      <th>8</th>\n",
       "      <td>0.935278</td>\n",
       "      <td>0.421235</td>\n",
       "      <td>0.303801</td>\n",
       "      <td>0.880214</td>\n",
       "      <td>0.665610</td>\n",
       "      <td>0.830131</td>\n",
       "      <td>0.487113</td>\n",
       "      <td>0.604157</td>\n",
       "      <td>0.874658</td>\n",
       "      <td>0.863427</td>\n",
       "      <td>0.983575</td>\n",
       "      <td>0.900464</td>\n",
       "      <td>0.935918</td>\n",
       "      <td>0.435772</td>\n",
       "      <td>7.951046</td>\n",
       "    </tr>\n",
       "  </tbody>\n",
       "</table>\n",
       "</div>"
      ],
      "text/plain": [
       "       cont1     cont2     cont3     cont4     cont5     cont6     cont7  \\\n",
       "id                                                                         \n",
       "1   0.670390  0.811300  0.643968  0.291791  0.284117  0.855953  0.890700   \n",
       "3   0.388053  0.621104  0.686102  0.501149  0.643790  0.449805  0.510824   \n",
       "4   0.834950  0.227436  0.301584  0.293408  0.606839  0.829175  0.506143   \n",
       "5   0.820708  0.160155  0.546887  0.726104  0.282444  0.785108  0.752758   \n",
       "8   0.935278  0.421235  0.303801  0.880214  0.665610  0.830131  0.487113   \n",
       "\n",
       "       cont8     cont9    cont10    cont11    cont12    cont13    cont14  \\\n",
       "id                                                                         \n",
       "1   0.285542  0.558245  0.779418  0.921832  0.866772  0.878733  0.305411   \n",
       "3   0.580748  0.418335  0.432632  0.439872  0.434971  0.369957  0.369484   \n",
       "4   0.558771  0.587603  0.823312  0.567007  0.677708  0.882938  0.303047   \n",
       "5   0.823267  0.574466  0.580843  0.769594  0.818143  0.914281  0.279528   \n",
       "8   0.604157  0.874658  0.863427  0.983575  0.900464  0.935918  0.435772   \n",
       "\n",
       "      target  \n",
       "id            \n",
       "1   7.243043  \n",
       "3   8.203331  \n",
       "4   7.776091  \n",
       "5   6.957716  \n",
       "8   7.951046  "
      ]
     },
     "execution_count": 3,
     "metadata": {},
     "output_type": "execute_result"
    }
   ],
   "source": [
    "df = pd.read_csv('/kaggle/input/tabular-playground-series-jan-2021/train.csv', index_col='id')\n",
    "df.head()"
   ]
  },
  {
   "cell_type": "code",
   "execution_count": 4,
   "metadata": {
    "execution": {
     "iopub.execute_input": "2021-01-21T01:01:02.956117Z",
     "iopub.status.busy": "2021-01-21T01:01:02.955373Z",
     "iopub.status.idle": "2021-01-21T01:01:02.958987Z",
     "shell.execute_reply": "2021-01-21T01:01:02.959528Z"
    },
    "papermill": {
     "duration": 0.025099,
     "end_time": "2021-01-21T01:01:02.959688",
     "exception": false,
     "start_time": "2021-01-21T01:01:02.934589",
     "status": "completed"
    },
    "tags": []
   },
   "outputs": [
    {
     "data": {
      "text/plain": [
       "(300000, 15)"
      ]
     },
     "execution_count": 4,
     "metadata": {},
     "output_type": "execute_result"
    }
   ],
   "source": [
    "df.shape"
   ]
  },
  {
   "cell_type": "code",
   "execution_count": 5,
   "metadata": {
    "execution": {
     "iopub.execute_input": "2021-01-21T01:01:02.998403Z",
     "iopub.status.busy": "2021-01-21T01:01:02.997409Z",
     "iopub.status.idle": "2021-01-21T01:01:03.001915Z",
     "shell.execute_reply": "2021-01-21T01:01:03.002400Z"
    },
    "papermill": {
     "duration": 0.028643,
     "end_time": "2021-01-21T01:01:03.002569",
     "exception": false,
     "start_time": "2021-01-21T01:01:02.973926",
     "status": "completed"
    },
    "tags": []
   },
   "outputs": [],
   "source": [
    "from tqdm.notebook import tqdm\n",
    "from sklearn.model_selection import KFold\n",
    "\n",
    "def estimate_model(pipline, data_df, target):\n",
    "    k_fold = KFold(n_splits=10, shuffle=False)\n",
    "    scores = []\n",
    "    X = data_df.to_numpy()\n",
    "    y = target.to_numpy()\n",
    "    for train_index, test_index in tqdm(k_fold.split(X)):\n",
    "        X_train, X_test = X[train_index], X[test_index]\n",
    "        y_train, y_test = y[train_index], y[test_index]\n",
    "        # Train\n",
    "        pipline.fit(X_train, y_train)\n",
    "\n",
    "        # Test\n",
    "        y_pred = pipline.predict(X_test)\n",
    "        score = mse(y_test, y_pred, squared=False)\n",
    "        scores.append(score)\n",
    "    return scores"
   ]
  },
  {
   "cell_type": "code",
   "execution_count": 6,
   "metadata": {
    "execution": {
     "iopub.execute_input": "2021-01-21T01:01:03.035254Z",
     "iopub.status.busy": "2021-01-21T01:01:03.034213Z",
     "iopub.status.idle": "2021-01-21T01:01:03.058655Z",
     "shell.execute_reply": "2021-01-21T01:01:03.058091Z"
    },
    "papermill": {
     "duration": 0.041745,
     "end_time": "2021-01-21T01:01:03.058779",
     "exception": false,
     "start_time": "2021-01-21T01:01:03.017034",
     "status": "completed"
    },
    "tags": []
   },
   "outputs": [],
   "source": [
    "X = df.drop('target', axis=1)\n",
    "y = df['target']"
   ]
  },
  {
   "cell_type": "code",
   "execution_count": 7,
   "metadata": {
    "execution": {
     "iopub.execute_input": "2021-01-21T01:01:03.095151Z",
     "iopub.status.busy": "2021-01-21T01:01:03.094193Z",
     "iopub.status.idle": "2021-01-21T01:01:03.097385Z",
     "shell.execute_reply": "2021-01-21T01:01:03.096757Z"
    },
    "papermill": {
     "duration": 0.024316,
     "end_time": "2021-01-21T01:01:03.097495",
     "exception": false,
     "start_time": "2021-01-21T01:01:03.073179",
     "status": "completed"
    },
    "tags": []
   },
   "outputs": [],
   "source": [
    "n_test = 10000\n",
    "x_train = X[:-n_test]\n",
    "y_train = y[:-n_test]\n",
    "\n",
    "x_test = X[-n_test:]\n",
    "y_test = y[-n_test:]"
   ]
  },
  {
   "cell_type": "code",
   "execution_count": 8,
   "metadata": {
    "execution": {
     "iopub.execute_input": "2021-01-21T01:01:03.134237Z",
     "iopub.status.busy": "2021-01-21T01:01:03.133511Z",
     "iopub.status.idle": "2021-01-21T01:01:03.136568Z",
     "shell.execute_reply": "2021-01-21T01:01:03.137169Z"
    },
    "papermill": {
     "duration": 0.025152,
     "end_time": "2021-01-21T01:01:03.137323",
     "exception": false,
     "start_time": "2021-01-21T01:01:03.112171",
     "status": "completed"
    },
    "tags": []
   },
   "outputs": [],
   "source": [
    "#model = RandomForestRegressor(n_estimators=100, verbose=2)\n",
    "#model = xg.XGBRegressor(objective ='reg:squarederror', \n",
    "#                  n_estimators = 10, seed = 42, n_jobs=-1, verbosity=1)\n",
    "\n",
    "optimal_params = {'lambda': 0.0030282073258141168, 'alpha': 0.01563845128469084, 'colsample_bytree': 0.5,\n",
    "             'subsample': 0.7, 'learning_rate': 0.01,'max_depth': 15,\n",
    "             'random_state': 2020, 'n_estimators': 4000, 'min_child_weight': 257}\n",
    "\n",
    "#'n_estimators': 4000\n",
    "model = xg.XGBRegressor(**optimal_params)"
   ]
  },
  {
   "cell_type": "code",
   "execution_count": 9,
   "metadata": {
    "execution": {
     "iopub.execute_input": "2021-01-21T01:01:03.172116Z",
     "iopub.status.busy": "2021-01-21T01:01:03.171438Z",
     "iopub.status.idle": "2021-01-21T01:01:03.179732Z",
     "shell.execute_reply": "2021-01-21T01:01:03.178981Z"
    },
    "papermill": {
     "duration": 0.02769,
     "end_time": "2021-01-21T01:01:03.179858",
     "exception": false,
     "start_time": "2021-01-21T01:01:03.152168",
     "status": "completed"
    },
    "tags": []
   },
   "outputs": [
    {
     "data": {
      "text/plain": [
       "XGBRegressor(alpha=0.01563845128469084, base_score=None, booster=None,\n",
       "             colsample_bylevel=None, colsample_bynode=None,\n",
       "             colsample_bytree=0.5, gamma=None, gpu_id=None,\n",
       "             importance_type='gain', interaction_constraints=None,\n",
       "             lambda=0.0030282073258141168, learning_rate=0.01,\n",
       "             max_delta_step=None, max_depth=15, min_child_weight=257,\n",
       "             missing=nan, monotone_constraints=None, n_estimators=4000,\n",
       "             n_jobs=None, num_parallel_tree=None, random_state=2020,\n",
       "             reg_alpha=None, reg_lambda=None, scale_pos_weight=None,\n",
       "             subsample=0.7, tree_method=None, validate_parameters=None,\n",
       "             verbosity=None)"
      ]
     },
     "execution_count": 9,
     "metadata": {},
     "output_type": "execute_result"
    }
   ],
   "source": [
    "model"
   ]
  },
  {
   "cell_type": "code",
   "execution_count": 10,
   "metadata": {
    "execution": {
     "iopub.execute_input": "2021-01-21T01:01:03.215998Z",
     "iopub.status.busy": "2021-01-21T01:01:03.215185Z",
     "iopub.status.idle": "2021-01-21T01:01:03.218460Z",
     "shell.execute_reply": "2021-01-21T01:01:03.217901Z"
    },
    "papermill": {
     "duration": 0.023057,
     "end_time": "2021-01-21T01:01:03.218587",
     "exception": false,
     "start_time": "2021-01-21T01:01:03.195530",
     "status": "completed"
    },
    "tags": []
   },
   "outputs": [],
   "source": [
    "#scores = estimate_model(model, X, y)"
   ]
  },
  {
   "cell_type": "code",
   "execution_count": 11,
   "metadata": {
    "execution": {
     "iopub.execute_input": "2021-01-21T01:01:03.254192Z",
     "iopub.status.busy": "2021-01-21T01:01:03.253494Z",
     "iopub.status.idle": "2021-01-21T01:01:03.256906Z",
     "shell.execute_reply": "2021-01-21T01:01:03.256262Z"
    },
    "papermill": {
     "duration": 0.023097,
     "end_time": "2021-01-21T01:01:03.257016",
     "exception": false,
     "start_time": "2021-01-21T01:01:03.233919",
     "status": "completed"
    },
    "tags": []
   },
   "outputs": [],
   "source": [
    "#print(\"Validation rmse: %0.4f (+/- %0.4f)\" % (np.mean(scores), np.std(scores)))"
   ]
  },
  {
   "cell_type": "code",
   "execution_count": 12,
   "metadata": {
    "execution": {
     "iopub.execute_input": "2021-01-21T01:01:03.296428Z",
     "iopub.status.busy": "2021-01-21T01:01:03.295597Z",
     "iopub.status.idle": "2021-01-21T01:01:04.559658Z",
     "shell.execute_reply": "2021-01-21T01:01:04.559061Z"
    },
    "papermill": {
     "duration": 1.287119,
     "end_time": "2021-01-21T01:01:04.559785",
     "exception": false,
     "start_time": "2021-01-21T01:01:03.272666",
     "status": "completed"
    },
    "tags": []
   },
   "outputs": [
    {
     "data": {
      "text/html": [
       "<div>\n",
       "<style scoped>\n",
       "    .dataframe tbody tr th:only-of-type {\n",
       "        vertical-align: middle;\n",
       "    }\n",
       "\n",
       "    .dataframe tbody tr th {\n",
       "        vertical-align: top;\n",
       "    }\n",
       "\n",
       "    .dataframe thead th {\n",
       "        text-align: right;\n",
       "    }\n",
       "</style>\n",
       "<table border=\"1\" class=\"dataframe\">\n",
       "  <thead>\n",
       "    <tr style=\"text-align: right;\">\n",
       "      <th></th>\n",
       "      <th>cont1</th>\n",
       "      <th>cont2</th>\n",
       "      <th>cont3</th>\n",
       "      <th>cont4</th>\n",
       "      <th>cont5</th>\n",
       "      <th>cont6</th>\n",
       "      <th>cont7</th>\n",
       "      <th>cont8</th>\n",
       "      <th>cont9</th>\n",
       "      <th>cont10</th>\n",
       "      <th>cont11</th>\n",
       "      <th>cont12</th>\n",
       "      <th>cont13</th>\n",
       "      <th>cont14</th>\n",
       "    </tr>\n",
       "    <tr>\n",
       "      <th>id</th>\n",
       "      <th></th>\n",
       "      <th></th>\n",
       "      <th></th>\n",
       "      <th></th>\n",
       "      <th></th>\n",
       "      <th></th>\n",
       "      <th></th>\n",
       "      <th></th>\n",
       "      <th></th>\n",
       "      <th></th>\n",
       "      <th></th>\n",
       "      <th></th>\n",
       "      <th></th>\n",
       "      <th></th>\n",
       "    </tr>\n",
       "  </thead>\n",
       "  <tbody>\n",
       "    <tr>\n",
       "      <th>0</th>\n",
       "      <td>0.353600</td>\n",
       "      <td>0.738780</td>\n",
       "      <td>0.600939</td>\n",
       "      <td>0.293377</td>\n",
       "      <td>0.285691</td>\n",
       "      <td>0.458006</td>\n",
       "      <td>0.620704</td>\n",
       "      <td>0.422249</td>\n",
       "      <td>0.369203</td>\n",
       "      <td>0.435727</td>\n",
       "      <td>0.550540</td>\n",
       "      <td>0.699134</td>\n",
       "      <td>0.286864</td>\n",
       "      <td>0.364515</td>\n",
       "    </tr>\n",
       "    <tr>\n",
       "      <th>2</th>\n",
       "      <td>0.907222</td>\n",
       "      <td>0.189756</td>\n",
       "      <td>0.215531</td>\n",
       "      <td>0.869915</td>\n",
       "      <td>0.301333</td>\n",
       "      <td>0.528958</td>\n",
       "      <td>0.390351</td>\n",
       "      <td>0.521112</td>\n",
       "      <td>0.794779</td>\n",
       "      <td>0.798580</td>\n",
       "      <td>0.446475</td>\n",
       "      <td>0.449037</td>\n",
       "      <td>0.916964</td>\n",
       "      <td>0.513002</td>\n",
       "    </tr>\n",
       "    <tr>\n",
       "      <th>6</th>\n",
       "      <td>0.179287</td>\n",
       "      <td>0.355353</td>\n",
       "      <td>0.623972</td>\n",
       "      <td>0.437812</td>\n",
       "      <td>0.282476</td>\n",
       "      <td>0.320826</td>\n",
       "      <td>0.386789</td>\n",
       "      <td>0.776422</td>\n",
       "      <td>0.222268</td>\n",
       "      <td>0.229102</td>\n",
       "      <td>0.211913</td>\n",
       "      <td>0.222651</td>\n",
       "      <td>0.327164</td>\n",
       "      <td>0.827941</td>\n",
       "    </tr>\n",
       "    <tr>\n",
       "      <th>7</th>\n",
       "      <td>0.359385</td>\n",
       "      <td>0.181049</td>\n",
       "      <td>0.551368</td>\n",
       "      <td>0.206386</td>\n",
       "      <td>0.280763</td>\n",
       "      <td>0.482076</td>\n",
       "      <td>0.506677</td>\n",
       "      <td>0.362793</td>\n",
       "      <td>0.379737</td>\n",
       "      <td>0.345686</td>\n",
       "      <td>0.445276</td>\n",
       "      <td>0.518485</td>\n",
       "      <td>0.299028</td>\n",
       "      <td>0.598166</td>\n",
       "    </tr>\n",
       "    <tr>\n",
       "      <th>10</th>\n",
       "      <td>0.335791</td>\n",
       "      <td>0.682607</td>\n",
       "      <td>0.676481</td>\n",
       "      <td>0.219465</td>\n",
       "      <td>0.282861</td>\n",
       "      <td>0.581721</td>\n",
       "      <td>0.748639</td>\n",
       "      <td>0.350158</td>\n",
       "      <td>0.448915</td>\n",
       "      <td>0.506878</td>\n",
       "      <td>0.817721</td>\n",
       "      <td>0.805895</td>\n",
       "      <td>0.790591</td>\n",
       "      <td>0.249275</td>\n",
       "    </tr>\n",
       "  </tbody>\n",
       "</table>\n",
       "</div>"
      ],
      "text/plain": [
       "       cont1     cont2     cont3     cont4     cont5     cont6     cont7  \\\n",
       "id                                                                         \n",
       "0   0.353600  0.738780  0.600939  0.293377  0.285691  0.458006  0.620704   \n",
       "2   0.907222  0.189756  0.215531  0.869915  0.301333  0.528958  0.390351   \n",
       "6   0.179287  0.355353  0.623972  0.437812  0.282476  0.320826  0.386789   \n",
       "7   0.359385  0.181049  0.551368  0.206386  0.280763  0.482076  0.506677   \n",
       "10  0.335791  0.682607  0.676481  0.219465  0.282861  0.581721  0.748639   \n",
       "\n",
       "       cont8     cont9    cont10    cont11    cont12    cont13    cont14  \n",
       "id                                                                        \n",
       "0   0.422249  0.369203  0.435727  0.550540  0.699134  0.286864  0.364515  \n",
       "2   0.521112  0.794779  0.798580  0.446475  0.449037  0.916964  0.513002  \n",
       "6   0.776422  0.222268  0.229102  0.211913  0.222651  0.327164  0.827941  \n",
       "7   0.362793  0.379737  0.345686  0.445276  0.518485  0.299028  0.598166  \n",
       "10  0.350158  0.448915  0.506878  0.817721  0.805895  0.790591  0.249275  "
      ]
     },
     "execution_count": 12,
     "metadata": {},
     "output_type": "execute_result"
    }
   ],
   "source": [
    "df_test = pd.read_csv('/kaggle/input/tabular-playground-series-jan-2021/test.csv', index_col='id')\n",
    "df_test.head()"
   ]
  },
  {
   "cell_type": "code",
   "execution_count": 13,
   "metadata": {
    "execution": {
     "iopub.execute_input": "2021-01-21T01:01:04.598675Z",
     "iopub.status.busy": "2021-01-21T01:01:04.597930Z",
     "iopub.status.idle": "2021-01-21T01:34:46.932503Z",
     "shell.execute_reply": "2021-01-21T01:34:46.933087Z"
    },
    "papermill": {
     "duration": 2022.35652,
     "end_time": "2021-01-21T01:34:46.933244",
     "exception": false,
     "start_time": "2021-01-21T01:01:04.576724",
     "status": "completed"
    },
    "tags": []
   },
   "outputs": [
    {
     "data": {
      "text/plain": [
       "XGBRegressor(alpha=0.01563845128469084, base_score=0.5, booster='gbtree',\n",
       "             colsample_bylevel=1, colsample_bynode=1, colsample_bytree=0.5,\n",
       "             gamma=0, gpu_id=-1, importance_type='gain',\n",
       "             interaction_constraints='', lambda=0.0030282073258141168,\n",
       "             learning_rate=0.01, max_delta_step=0, max_depth=15,\n",
       "             min_child_weight=257, missing=nan, monotone_constraints='()',\n",
       "             n_estimators=4000, n_jobs=0, num_parallel_tree=1,\n",
       "             random_state=2020, reg_alpha=0.015638452, reg_lambda=0.00302820723,\n",
       "             scale_pos_weight=1, subsample=0.7, tree_method='exact',\n",
       "             validate_parameters=1, verbosity=None)"
      ]
     },
     "execution_count": 13,
     "metadata": {},
     "output_type": "execute_result"
    }
   ],
   "source": [
    "model.fit(X, y)"
   ]
  },
  {
   "cell_type": "code",
   "execution_count": 14,
   "metadata": {
    "execution": {
     "iopub.execute_input": "2021-01-21T01:34:46.970826Z",
     "iopub.status.busy": "2021-01-21T01:34:46.970166Z",
     "iopub.status.idle": "2021-01-21T01:36:22.191728Z",
     "shell.execute_reply": "2021-01-21T01:36:22.192420Z"
    },
    "papermill": {
     "duration": 95.242281,
     "end_time": "2021-01-21T01:36:22.192641",
     "exception": false,
     "start_time": "2021-01-21T01:34:46.950360",
     "status": "completed"
    },
    "tags": []
   },
   "outputs": [],
   "source": [
    "y_pred = model.predict(df_test)"
   ]
  },
  {
   "cell_type": "code",
   "execution_count": 15,
   "metadata": {
    "execution": {
     "iopub.execute_input": "2021-01-21T01:36:22.245147Z",
     "iopub.status.busy": "2021-01-21T01:36:22.244337Z",
     "iopub.status.idle": "2021-01-21T01:36:22.263465Z",
     "shell.execute_reply": "2021-01-21T01:36:22.264236Z"
    },
    "papermill": {
     "duration": 0.048326,
     "end_time": "2021-01-21T01:36:22.264400",
     "exception": false,
     "start_time": "2021-01-21T01:36:22.216074",
     "status": "completed"
    },
    "tags": []
   },
   "outputs": [
    {
     "data": {
      "text/html": [
       "<div>\n",
       "<style scoped>\n",
       "    .dataframe tbody tr th:only-of-type {\n",
       "        vertical-align: middle;\n",
       "    }\n",
       "\n",
       "    .dataframe tbody tr th {\n",
       "        vertical-align: top;\n",
       "    }\n",
       "\n",
       "    .dataframe thead th {\n",
       "        text-align: right;\n",
       "    }\n",
       "</style>\n",
       "<table border=\"1\" class=\"dataframe\">\n",
       "  <thead>\n",
       "    <tr style=\"text-align: right;\">\n",
       "      <th></th>\n",
       "      <th>cont1</th>\n",
       "      <th>cont2</th>\n",
       "      <th>cont3</th>\n",
       "      <th>cont4</th>\n",
       "      <th>cont5</th>\n",
       "      <th>cont6</th>\n",
       "      <th>cont7</th>\n",
       "      <th>cont8</th>\n",
       "      <th>cont9</th>\n",
       "      <th>cont10</th>\n",
       "      <th>cont11</th>\n",
       "      <th>cont12</th>\n",
       "      <th>cont13</th>\n",
       "      <th>cont14</th>\n",
       "    </tr>\n",
       "    <tr>\n",
       "      <th>id</th>\n",
       "      <th></th>\n",
       "      <th></th>\n",
       "      <th></th>\n",
       "      <th></th>\n",
       "      <th></th>\n",
       "      <th></th>\n",
       "      <th></th>\n",
       "      <th></th>\n",
       "      <th></th>\n",
       "      <th></th>\n",
       "      <th></th>\n",
       "      <th></th>\n",
       "      <th></th>\n",
       "      <th></th>\n",
       "    </tr>\n",
       "  </thead>\n",
       "  <tbody>\n",
       "    <tr>\n",
       "      <th>0</th>\n",
       "      <td>0.353600</td>\n",
       "      <td>0.738780</td>\n",
       "      <td>0.600939</td>\n",
       "      <td>0.293377</td>\n",
       "      <td>0.285691</td>\n",
       "      <td>0.458006</td>\n",
       "      <td>0.620704</td>\n",
       "      <td>0.422249</td>\n",
       "      <td>0.369203</td>\n",
       "      <td>0.435727</td>\n",
       "      <td>0.550540</td>\n",
       "      <td>0.699134</td>\n",
       "      <td>0.286864</td>\n",
       "      <td>0.364515</td>\n",
       "    </tr>\n",
       "    <tr>\n",
       "      <th>2</th>\n",
       "      <td>0.907222</td>\n",
       "      <td>0.189756</td>\n",
       "      <td>0.215531</td>\n",
       "      <td>0.869915</td>\n",
       "      <td>0.301333</td>\n",
       "      <td>0.528958</td>\n",
       "      <td>0.390351</td>\n",
       "      <td>0.521112</td>\n",
       "      <td>0.794779</td>\n",
       "      <td>0.798580</td>\n",
       "      <td>0.446475</td>\n",
       "      <td>0.449037</td>\n",
       "      <td>0.916964</td>\n",
       "      <td>0.513002</td>\n",
       "    </tr>\n",
       "    <tr>\n",
       "      <th>6</th>\n",
       "      <td>0.179287</td>\n",
       "      <td>0.355353</td>\n",
       "      <td>0.623972</td>\n",
       "      <td>0.437812</td>\n",
       "      <td>0.282476</td>\n",
       "      <td>0.320826</td>\n",
       "      <td>0.386789</td>\n",
       "      <td>0.776422</td>\n",
       "      <td>0.222268</td>\n",
       "      <td>0.229102</td>\n",
       "      <td>0.211913</td>\n",
       "      <td>0.222651</td>\n",
       "      <td>0.327164</td>\n",
       "      <td>0.827941</td>\n",
       "    </tr>\n",
       "    <tr>\n",
       "      <th>7</th>\n",
       "      <td>0.359385</td>\n",
       "      <td>0.181049</td>\n",
       "      <td>0.551368</td>\n",
       "      <td>0.206386</td>\n",
       "      <td>0.280763</td>\n",
       "      <td>0.482076</td>\n",
       "      <td>0.506677</td>\n",
       "      <td>0.362793</td>\n",
       "      <td>0.379737</td>\n",
       "      <td>0.345686</td>\n",
       "      <td>0.445276</td>\n",
       "      <td>0.518485</td>\n",
       "      <td>0.299028</td>\n",
       "      <td>0.598166</td>\n",
       "    </tr>\n",
       "    <tr>\n",
       "      <th>10</th>\n",
       "      <td>0.335791</td>\n",
       "      <td>0.682607</td>\n",
       "      <td>0.676481</td>\n",
       "      <td>0.219465</td>\n",
       "      <td>0.282861</td>\n",
       "      <td>0.581721</td>\n",
       "      <td>0.748639</td>\n",
       "      <td>0.350158</td>\n",
       "      <td>0.448915</td>\n",
       "      <td>0.506878</td>\n",
       "      <td>0.817721</td>\n",
       "      <td>0.805895</td>\n",
       "      <td>0.790591</td>\n",
       "      <td>0.249275</td>\n",
       "    </tr>\n",
       "  </tbody>\n",
       "</table>\n",
       "</div>"
      ],
      "text/plain": [
       "       cont1     cont2     cont3     cont4     cont5     cont6     cont7  \\\n",
       "id                                                                         \n",
       "0   0.353600  0.738780  0.600939  0.293377  0.285691  0.458006  0.620704   \n",
       "2   0.907222  0.189756  0.215531  0.869915  0.301333  0.528958  0.390351   \n",
       "6   0.179287  0.355353  0.623972  0.437812  0.282476  0.320826  0.386789   \n",
       "7   0.359385  0.181049  0.551368  0.206386  0.280763  0.482076  0.506677   \n",
       "10  0.335791  0.682607  0.676481  0.219465  0.282861  0.581721  0.748639   \n",
       "\n",
       "       cont8     cont9    cont10    cont11    cont12    cont13    cont14  \n",
       "id                                                                        \n",
       "0   0.422249  0.369203  0.435727  0.550540  0.699134  0.286864  0.364515  \n",
       "2   0.521112  0.794779  0.798580  0.446475  0.449037  0.916964  0.513002  \n",
       "6   0.776422  0.222268  0.229102  0.211913  0.222651  0.327164  0.827941  \n",
       "7   0.362793  0.379737  0.345686  0.445276  0.518485  0.299028  0.598166  \n",
       "10  0.350158  0.448915  0.506878  0.817721  0.805895  0.790591  0.249275  "
      ]
     },
     "execution_count": 15,
     "metadata": {},
     "output_type": "execute_result"
    }
   ],
   "source": [
    "df_test.head()"
   ]
  },
  {
   "cell_type": "code",
   "execution_count": 16,
   "metadata": {
    "execution": {
     "iopub.execute_input": "2021-01-21T01:36:22.320486Z",
     "iopub.status.busy": "2021-01-21T01:36:22.319715Z",
     "iopub.status.idle": "2021-01-21T01:36:22.402401Z",
     "shell.execute_reply": "2021-01-21T01:36:22.402964Z"
    },
    "papermill": {
     "duration": 0.116129,
     "end_time": "2021-01-21T01:36:22.403120",
     "exception": false,
     "start_time": "2021-01-21T01:36:22.286991",
     "status": "completed"
    },
    "tags": []
   },
   "outputs": [
    {
     "data": {
      "text/html": [
       "<div>\n",
       "<style scoped>\n",
       "    .dataframe tbody tr th:only-of-type {\n",
       "        vertical-align: middle;\n",
       "    }\n",
       "\n",
       "    .dataframe tbody tr th {\n",
       "        vertical-align: top;\n",
       "    }\n",
       "\n",
       "    .dataframe thead th {\n",
       "        text-align: right;\n",
       "    }\n",
       "</style>\n",
       "<table border=\"1\" class=\"dataframe\">\n",
       "  <thead>\n",
       "    <tr style=\"text-align: right;\">\n",
       "      <th></th>\n",
       "      <th>id</th>\n",
       "      <th>target</th>\n",
       "    </tr>\n",
       "  </thead>\n",
       "  <tbody>\n",
       "    <tr>\n",
       "      <th>0</th>\n",
       "      <td>0</td>\n",
       "      <td>0.5</td>\n",
       "    </tr>\n",
       "    <tr>\n",
       "      <th>1</th>\n",
       "      <td>2</td>\n",
       "      <td>0.5</td>\n",
       "    </tr>\n",
       "    <tr>\n",
       "      <th>2</th>\n",
       "      <td>6</td>\n",
       "      <td>0.5</td>\n",
       "    </tr>\n",
       "    <tr>\n",
       "      <th>3</th>\n",
       "      <td>7</td>\n",
       "      <td>0.5</td>\n",
       "    </tr>\n",
       "    <tr>\n",
       "      <th>4</th>\n",
       "      <td>10</td>\n",
       "      <td>0.5</td>\n",
       "    </tr>\n",
       "  </tbody>\n",
       "</table>\n",
       "</div>"
      ],
      "text/plain": [
       "   id  target\n",
       "0   0     0.5\n",
       "1   2     0.5\n",
       "2   6     0.5\n",
       "3   7     0.5\n",
       "4  10     0.5"
      ]
     },
     "execution_count": 16,
     "metadata": {},
     "output_type": "execute_result"
    }
   ],
   "source": [
    "df_sample_submission = pd.read_csv('/kaggle/input/tabular-playground-series-jan-2021/sample_submission.csv')\n",
    "df_sample_submission.head()"
   ]
  },
  {
   "cell_type": "code",
   "execution_count": 17,
   "metadata": {
    "execution": {
     "iopub.execute_input": "2021-01-21T01:36:22.443109Z",
     "iopub.status.busy": "2021-01-21T01:36:22.442434Z",
     "iopub.status.idle": "2021-01-21T01:36:22.447059Z",
     "shell.execute_reply": "2021-01-21T01:36:22.447731Z"
    },
    "papermill": {
     "duration": 0.02636,
     "end_time": "2021-01-21T01:36:22.447878",
     "exception": false,
     "start_time": "2021-01-21T01:36:22.421518",
     "status": "completed"
    },
    "tags": []
   },
   "outputs": [],
   "source": [
    "df_sample_submission['target'] = y_pred"
   ]
  },
  {
   "cell_type": "code",
   "execution_count": 18,
   "metadata": {
    "execution": {
     "iopub.execute_input": "2021-01-21T01:36:22.488105Z",
     "iopub.status.busy": "2021-01-21T01:36:22.487220Z",
     "iopub.status.idle": "2021-01-21T01:36:23.454214Z",
     "shell.execute_reply": "2021-01-21T01:36:23.453643Z"
    },
    "papermill": {
     "duration": 0.988092,
     "end_time": "2021-01-21T01:36:23.454351",
     "exception": false,
     "start_time": "2021-01-21T01:36:22.466259",
     "status": "completed"
    },
    "tags": []
   },
   "outputs": [],
   "source": [
    "df_sample_submission.to_csv('xgboost_optimal_params_4000Nestim.csv', index=False)"
   ]
  }
 ],
 "metadata": {
  "kernelspec": {
   "display_name": "Python 3",
   "language": "python",
   "name": "python3"
  },
  "language_info": {
   "codemirror_mode": {
    "name": "ipython",
    "version": 3
   },
   "file_extension": ".py",
   "mimetype": "text/x-python",
   "name": "python",
   "nbconvert_exporter": "python",
   "pygments_lexer": "ipython3",
   "version": "3.7.6"
  },
  "papermill": {
   "duration": 2131.626673,
   "end_time": "2021-01-21T01:36:24.489201",
   "environment_variables": {},
   "exception": null,
   "input_path": "__notebook__.ipynb",
   "output_path": "__notebook__.ipynb",
   "parameters": {},
   "start_time": "2021-01-21T01:00:52.862528",
   "version": "2.1.0"
  }
 },
 "nbformat": 4,
 "nbformat_minor": 4
}
