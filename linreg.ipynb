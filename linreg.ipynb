{
 "cells": [
  {
   "cell_type": "code",
   "execution_count": 1,
   "metadata": {},
   "outputs": [],
   "source": [
    "import numpy as np\n",
    "import matplotlib.pyplot as plt\n",
    "from pprint import pprint\n",
    "from sklearn.linear_model import LinearRegression\n",
    "from linreg_gd import LinearRegressionUsingGD\n",
    "import plotly.graph_objects as go\n",
    "\n",
    "np.random.seed(0)"
   ]
  },
  {
   "cell_type": "code",
   "execution_count": 2,
   "metadata": {},
   "outputs": [
    {
     "name": "stdout",
     "output_type": "stream",
     "text": [
      "(500, 2) (500, 1)\n"
     ]
    }
   ],
   "source": [
    "n_train = 500\n",
    "n_test = 50\n",
    "\n",
    "x_train = np.hstack((np.random.rand(n_train, 1), np.ones((n_train, 1))))\n",
    "y_train = (2 + 3 * x_train[:, 0] + np.random.rand(n_train)).reshape(n_train, 1)\n",
    "print(x_train.shape, y_train.shape)"
   ]
  },
  {
   "cell_type": "code",
   "execution_count": 3,
   "metadata": {},
   "outputs": [
    {
     "name": "stdout",
     "output_type": "stream",
     "text": [
      "(50, 2) (50, 1)\n"
     ]
    }
   ],
   "source": [
    "x_test = np.hstack((np.random.rand(n_test, 1), np.ones((n_test, 1))))\n",
    "y_test = (2 + 3 * x_test[:, 0] + np.random.rand(n_test)).reshape(n_test, 1)\n",
    "print(x_test.shape, y_test.shape)"
   ]
  },
  {
   "cell_type": "code",
   "execution_count": 4,
   "metadata": {},
   "outputs": [
    {
     "data": {
      "text/plain": [
       "<linreg_gd.LinearRegressionUsingGD at 0x7f2d58051820>"
      ]
     },
     "execution_count": 4,
     "metadata": {},
     "output_type": "execute_result"
    }
   ],
   "source": [
    "model = LinearRegressionUsingGD()\n",
    "\n",
    "model.fit(x_train, y_train)"
   ]
  },
  {
   "cell_type": "code",
   "execution_count": 5,
   "metadata": {},
   "outputs": [],
   "source": [
    "y_pred = model.predict(x_test)"
   ]
  },
  {
   "cell_type": "code",
   "execution_count": 6,
   "metadata": {},
   "outputs": [
    {
     "data": {
      "image/png": "[encoded data removed]",
      "text/plain": [
       "<Figure size 432x288 with 1 Axes>"
      ]
     },
     "metadata": {
      "needs_background": "light"
     },
     "output_type": "display_data"
    }
   ],
   "source": [
    "plt.scatter(x_test[:, 0], y_test, s=10)\n",
    "plt.xlabel('x')\n",
    "plt.ylabel('y')\n",
    "plt.title('self-written Linear Regression')\n",
    "\n",
    "# predicted values\n",
    "plt.plot(x_test[:, 0], y_pred, color='r')\n",
    "plt.show()"
   ]
  },
  {
   "cell_type": "code",
   "execution_count": 7,
   "metadata": {},
   "outputs": [
    {
     "data": {
      "image/png": "[encoded data removed]",
      "text/plain": [
       "<Figure size 432x288 with 1 Axes>"
      ]
     },
     "metadata": {
      "needs_background": "light"
     },
     "output_type": "display_data"
    }
   ],
   "source": [
    "model = LinearRegression()\n",
    "model.fit(x_train, y_train)\n",
    "y_pred = model.predict(x_test)\n",
    "\n",
    "plt.scatter(x_test[:, 0], y_test, s=10)\n",
    "plt.xlabel('x')\n",
    "plt.ylabel('y')\n",
    "plt.title('Linear Regression from sklearn')\n",
    "\n",
    "# predicted values\n",
    "plt.plot(x_test[:, 0], y_pred, color='r')\n",
    "plt.show()"
   ]
  },
  {
   "cell_type": "markdown",
   "metadata": {},
   "source": [
    "### Multidimensional case:"
   ]
  },
  {
   "cell_type": "code",
   "execution_count": 8,
   "metadata": {},
   "outputs": [
    {
     "name": "stdout",
     "output_type": "stream",
     "text": [
      "(10, 3) (10, 1)\n",
      "(50, 3) (50, 1)\n"
     ]
    }
   ],
   "source": [
    "n_dim = 2\n",
    "n_train = 10\n",
    "n_test = 50\n",
    "\n",
    "x_train = np.hstack((np.random.rand(n_train, n_dim), np.ones((n_train, 1))))\n",
    "y_train = (2 + 3 * x_train[:, 0] + 4*x_train[:, 1] - x_train[:, 2] + np.random.rand(n_train)).reshape(n_train, 1)\n",
    "print(x_train.shape, y_train.shape)\n",
    "\n",
    "x_test = np.hstack((np.random.rand(n_test, n_dim), np.ones((n_test, 1))))\n",
    "y_test = (2 + 3 * x_test[:, 0] + 4*x_test[:, 1] - x_test[:, 2]+ np.random.rand(n_test)).reshape(n_test, 1)\n",
    "print(x_test.shape, y_test.shape)"
   ]
  },
  {
   "cell_type": "code",
   "execution_count": 9,
   "metadata": {},
   "outputs": [
    {
     "name": "stdout",
     "output_type": "stream",
     "text": [
      "2.0433135542602636e-22\n"
     ]
    }
   ],
   "source": [
    "n_iters = 10000\n",
    "my_model = LinearRegressionUsingGD(n_iterations=n_iters)\n",
    "sk_model = LinearRegression()\n",
    "\n",
    "my_model.fit(x_train, y_train)\n",
    "sk_model.fit(x_train, y_train)\n",
    "\n",
    "y_pred_my = my_model.predict(x_test)\n",
    "y_pred_sk = sk_model.predict(x_test)\n",
    "\n",
    "print(np.sum((y_pred_my - y_pred_sk)**2) / n_test)"
   ]
  },
  {
   "cell_type": "code",
   "execution_count": 10,
   "metadata": {},
   "outputs": [
    {
     "data": {
      "text/plain": [
       "array([[2.7538387 ],\n",
       "       [4.45714462],\n",
       "       [1.5461677 ]])"
      ]
     },
     "execution_count": 10,
     "metadata": {},
     "output_type": "execute_result"
    }
   ],
   "source": [
    "my_model.w_"
   ]
  },
  {
   "cell_type": "code",
   "execution_count": 19,
   "metadata": {},
   "outputs": [
    {
     "name": "stdout",
     "output_type": "stream",
     "text": [
      "Images are interactive!!!\n"
     ]
    },
    {
     "data": {
      "application/vnd.plotly.v1+json": {
       "config": {
        "plotlyServerURL": "https://plot.ly"
       },
       "data": [
        {
         "color": "red",
         "showscale": true,
         "type": "mesh3d",
         "x": [
          0.0020646355744217137,
          0.95612315955996,
          0.6383901057769485,
          0.9478218871115895,
          0.3296511575814126,
          0.10816552447633765,
          0.22121812773159233,
          0.10244628177193038,
          0.2766497302091896,
          0.3498976805038789,
          0.024577024306966067,
          0.23057128969382001,
          0.8002556035835235,
          0.3165502100270866,
          0.1039908379712331,
          0.7510322995349188,
          0.42600238766956056,
          0.10357846344837218,
          0.5905853790479337,
          0.7986892488839027,
          0.2991536445438161,
          0.48627208632931485,
          0.9838538296816167,
          0.3895485073455688,
          0.9446257184221241,
          0.720265852504758,
          0.6646655865344386,
          0.198990939925484,
          0.7068718094201221,
          0.9279761665983579,
          0.8161507522663684,
          0.2763371527370494,
          0.3798939037860174,
          0.668218229542771,
          0.019462467309300346,
          0.3085279595544005,
          0.8882650405440435,
          0.652999760945243,
          0.5488492673993047,
          0.09861036872281104,
          0.04117979132812166,
          0.8075638041598735,
          0.6271607114618583,
          0.16981950317171468,
          0.7732591260670232,
          0.9829991349165325,
          0.9926669934642663,
          0.9382561369639623,
          0.458212259758612,
          0.20362093207723198
         ],
         "y": [
          0.19891133466685962,
          0.3304405726028439,
          0.2808594946322427,
          0.7285587299494868,
          0.7917614211803709,
          0.3923189400654594,
          0.6837264472760463,
          0.3970258322826741,
          0.5063429193238042,
          0.706410577667011,
          0.6339869213059075,
          0.2687090287568493,
          0.9555683939804208,
          0.8268052703690757,
          0.6339816530073832,
          0.15597792803445654,
          0.8927071642489816,
          0.01809635820147515,
          0.43553154053093346,
          0.9234555382041066,
          0.3884041171691053,
          0.5881514604352993,
          0.6973302508300515,
          0.2637676864504621,
          0.1355484331085064,
          0.9253950252924407,
          0.42305444016612115,
          0.36747532225192725,
          0.6495342241752968,
          0.8668609136593749,
          0.9114508753507623,
          0.3695235401396495,
          0.5604505887097803,
          0.2867166830403943,
          0.3992223836579093,
          0.9421847190180479,
          0.8603106783434196,
          0.3442891646989389,
          0.8152250407163727,
          0.8010748802553047,
          0.8164210312143557,
          0.051007308828755815,
          0.5024530743128972,
          0.14837893767737564,
          0.5676927488368441,
          0.9822477772883441,
          0.11861551836576589,
          0.2445696090205628,
          0.7574065558217259,
          0.5663116055543299
         ],
         "z": [
          2.4384299619351557,
          5.651998084583406,
          4.556022469193445,
          7.4036079236897905,
          5.982968979887085,
          3.5926603645750506,
          5.202834402687111,
          3.5978897920099144,
          4.564860057012975,
          5.658303585026605,
          4.439620261001542,
          3.378798846561187,
          8.009049084521465,
          6.103086587474323,
          4.65828961294633,
          4.309605698693365,
          6.6982345022153496,
          1.9120641697246328,
          5.113771640354906,
          7.8616039538676095,
          4.101161909346145,
          5.506758713178304,
          7.363644233833897,
          3.794572183916408,
          4.751673534541614,
          7.654283144252608,
          5.262164341951383,
          3.732047311170751,
          6.38784662356189,
          7.965388844988929,
          7.856183599179937,
          3.9541755087818395,
          5.0903435656092375,
          4.664270646637906,
          3.379156099285166,
          6.595257492831138,
          7.826835463055257,
          4.87897031590763,
          6.69118596368679,
          5.388231347911555,
          5.298476815459884,
          3.9974151129963125,
          5.512773160759499,
          2.675169607169428,
          6.205887293675893,
          8.6312091634434,
          4.808499007126585,
          5.220055882648934,
          6.18388091517096,
          4.631039633780697
         ]
        },
        {
         "marker": {
          "color": "blue",
          "opacity": 0.7,
          "size": 5
         },
         "mode": "markers",
         "type": "scatter3d",
         "x": [
          0.0020646355744217137,
          0.95612315955996,
          0.6383901057769485,
          0.9478218871115895,
          0.3296511575814126,
          0.10816552447633765,
          0.22121812773159233,
          0.10244628177193038,
          0.2766497302091896,
          0.3498976805038789,
          0.024577024306966067,
          0.23057128969382001,
          0.8002556035835235,
          0.3165502100270866,
          0.1039908379712331,
          0.7510322995349188,
          0.42600238766956056,
          0.10357846344837218,
          0.5905853790479337,
          0.7986892488839027,
          0.2991536445438161,
          0.48627208632931485,
          0.9838538296816167,
          0.3895485073455688,
          0.9446257184221241,
          0.720265852504758,
          0.6646655865344386,
          0.198990939925484,
          0.7068718094201221,
          0.9279761665983579,
          0.8161507522663684,
          0.2763371527370494,
          0.3798939037860174,
          0.668218229542771,
          0.019462467309300346,
          0.3085279595544005,
          0.8882650405440435,
          0.652999760945243,
          0.5488492673993047,
          0.09861036872281104,
          0.04117979132812166,
          0.8075638041598735,
          0.6271607114618583,
          0.16981950317171468,
          0.7732591260670232,
          0.9829991349165325,
          0.9926669934642663,
          0.9382561369639623,
          0.458212259758612,
          0.20362093207723198
         ],
         "y": [
          0.19891133466685962,
          0.3304405726028439,
          0.2808594946322427,
          0.7285587299494868,
          0.7917614211803709,
          0.3923189400654594,
          0.6837264472760463,
          0.3970258322826741,
          0.5063429193238042,
          0.706410577667011,
          0.6339869213059075,
          0.2687090287568493,
          0.9555683939804208,
          0.8268052703690757,
          0.6339816530073832,
          0.15597792803445654,
          0.8927071642489816,
          0.01809635820147515,
          0.43553154053093346,
          0.9234555382041066,
          0.3884041171691053,
          0.5881514604352993,
          0.6973302508300515,
          0.2637676864504621,
          0.1355484331085064,
          0.9253950252924407,
          0.42305444016612115,
          0.36747532225192725,
          0.6495342241752968,
          0.8668609136593749,
          0.9114508753507623,
          0.3695235401396495,
          0.5604505887097803,
          0.2867166830403943,
          0.3992223836579093,
          0.9421847190180479,
          0.8603106783434196,
          0.3442891646989389,
          0.8152250407163727,
          0.8010748802553047,
          0.8164210312143557,
          0.051007308828755815,
          0.5024530743128972,
          0.14837893767737564,
          0.5676927488368441,
          0.9822477772883441,
          0.11861551836576589,
          0.2445696090205628,
          0.7574065558217259,
          0.5663116055543299
         ],
         "z": [
          1.9876559936166993,
          5.294867875772549,
          4.155166908289415,
          7.115339615980934,
          5.160653994302905,
          3.31862625489254,
          5.062757277380111,
          3.297130359450476,
          3.94111546844262,
          4.938024214203321,
          3.8877952709093897,
          2.935862674652458,
          8.188135359890223,
          5.408101936531647,
          4.653361563348229,
          4.463116552483727,
          6.418122739988902,
          1.8952015390748016,
          5.485645375381486,
          7.453734674559772,
          4.238993153261745,
          5.3667162081961015,
          7.136516159990783,
          4.179182201144336,
          4.974386857065085,
          6.981294600830051,
          5.103753721264656,
          3.848455836465768,
          6.412499348200768,
          8.167712484269147,
          7.353633142343674,
          4.06529933512357,
          4.841359273591694,
          4.7251311677567065,
          3.610323617565821,
          6.67360907472457,
          7.967628798931373,
          4.695253029361781,
          6.795148800790725,
          5.138739804831065,
          4.819220279312501,
          3.662463330295127,
          5.661422555828746,
          2.60507984094876,
          6.376736873013506,
          8.626011313246243,
          5.246030421904216,
          5.0936980056709045,
          6.205061601630371,
          4.424955546915182
         ]
        }
       ],
       "layout": {
        "autosize": false,
        "height": 600,
        "margin": {
         "b": 65,
         "l": 65,
         "r": 50,
         "t": 90
        },
        "template": {
         "data": {
          "bar": [
           {
            "error_x": {
             "color": "#2a3f5f"
            },
            "error_y": {
             "color": "#2a3f5f"
            },
            "marker": {
             "line": {
              "color": "#E5ECF6",
              "width": 0.5
             }
            },
            "type": "bar"
           }
          ],
          "barpolar": [
           {
            "marker": {
             "line": {
              "color": "#E5ECF6",
              "width": 0.5
             }
            },
            "type": "barpolar"
           }
          ],
          "carpet": [
           {
            "aaxis": {
             "endlinecolor": "#2a3f5f",
             "gridcolor": "white",
             "linecolor": "white",
             "minorgridcolor": "white",
             "startlinecolor": "#2a3f5f"
            },
            "baxis": {
             "endlinecolor": "#2a3f5f",
             "gridcolor": "white",
             "linecolor": "white",
             "minorgridcolor": "white",
             "startlinecolor": "#2a3f5f"
            },
            "type": "carpet"
           }
          ],
          "choropleth": [
           {
            "colorbar": {
             "outlinewidth": 0,
             "ticks": ""
            },
            "type": "choropleth"
           }
          ],
          "contour": [
           {
            "colorbar": {
             "outlinewidth": 0,
             "ticks": ""
            },
            "colorscale": [
             [
              0,
              "#0d0887"
             ],
             [
              0.1111111111111111,
              "#46039f"
             ],
             [
              0.2222222222222222,
              "#7201a8"
             ],
             [
              0.3333333333333333,
              "#9c179e"
             ],
             [
              0.4444444444444444,
              "#bd3786"
             ],
             [
              0.5555555555555556,
              "#d8576b"
             ],
             [
              0.6666666666666666,
              "#ed7953"
             ],
             [
              0.7777777777777778,
              "#fb9f3a"
             ],
             [
              0.8888888888888888,
              "#fdca26"
             ],
             [
              1,
              "#f0f921"
             ]
            ],
            "type": "contour"
           }
          ],
          "contourcarpet": [
           {
            "colorbar": {
             "outlinewidth": 0,
             "ticks": ""
            },
            "type": "contourcarpet"
           }
          ],
          "heatmap": [
           {
            "colorbar": {
             "outlinewidth": 0,
             "ticks": ""
            },
            "colorscale": [
             [
              0,
              "#0d0887"
             ],
             [
              0.1111111111111111,
              "#46039f"
             ],
             [
              0.2222222222222222,
              "#7201a8"
             ],
             [
              0.3333333333333333,
              "#9c179e"
             ],
             [
              0.4444444444444444,
              "#bd3786"
             ],
             [
              0.5555555555555556,
              "#d8576b"
             ],
             [
              0.6666666666666666,
              "#ed7953"
             ],
             [
              0.7777777777777778,
              "#fb9f3a"
             ],
             [
              0.8888888888888888,
              "#fdca26"
             ],
             [
              1,
              "#f0f921"
             ]
            ],
            "type": "heatmap"
           }
          ],
          "heatmapgl": [
           {
            "colorbar": {
             "outlinewidth": 0,
             "ticks": ""
            },
            "colorscale": [
             [
              0,
              "#0d0887"
             ],
             [
              0.1111111111111111,
              "#46039f"
             ],
             [
              0.2222222222222222,
              "#7201a8"
             ],
             [
              0.3333333333333333,
              "#9c179e"
             ],
             [
              0.4444444444444444,
              "#bd3786"
             ],
             [
              0.5555555555555556,
              "#d8576b"
             ],
             [
              0.6666666666666666,
              "#ed7953"
             ],
             [
              0.7777777777777778,
              "#fb9f3a"
             ],
             [
              0.8888888888888888,
              "#fdca26"
             ],
             [
              1,
              "#f0f921"
             ]
            ],
            "type": "heatmapgl"
           }
          ],
          "histogram": [
           {
            "marker": {
             "colorbar": {
              "outlinewidth": 0,
              "ticks": ""
             }
            },
            "type": "histogram"
           }
          ],
          "histogram2d": [
           {
            "colorbar": {
             "outlinewidth": 0,
             "ticks": ""
            },
            "colorscale": [
             [
              0,
              "#0d0887"
             ],
             [
              0.1111111111111111,
              "#46039f"
             ],
             [
              0.2222222222222222,
              "#7201a8"
             ],
             [
              0.3333333333333333,
              "#9c179e"
             ],
             [
              0.4444444444444444,
              "#bd3786"
             ],
             [
              0.5555555555555556,
              "#d8576b"
             ],
             [
              0.6666666666666666,
              "#ed7953"
             ],
             [
              0.7777777777777778,
              "#fb9f3a"
             ],
             [
              0.8888888888888888,
              "#fdca26"
             ],
             [
              1,
              "#f0f921"
             ]
            ],
            "type": "histogram2d"
           }
          ],
          "histogram2dcontour": [
           {
            "colorbar": {
             "outlinewidth": 0,
             "ticks": ""
            },
            "colorscale": [
             [
              0,
              "#0d0887"
             ],
             [
              0.1111111111111111,
              "#46039f"
             ],
             [
              0.2222222222222222,
              "#7201a8"
             ],
             [
              0.3333333333333333,
              "#9c179e"
             ],
             [
              0.4444444444444444,
              "#bd3786"
             ],
             [
              0.5555555555555556,
              "#d8576b"
             ],
             [
              0.6666666666666666,
              "#ed7953"
             ],
             [
              0.7777777777777778,
              "#fb9f3a"
             ],
             [
              0.8888888888888888,
              "#fdca26"
             ],
             [
              1,
              "#f0f921"
             ]
            ],
            "type": "histogram2dcontour"
           }
          ],
          "mesh3d": [
           {
            "colorbar": {
             "outlinewidth": 0,
             "ticks": ""
            },
            "type": "mesh3d"
           }
          ],
          "parcoords": [
           {
            "line": {
             "colorbar": {
              "outlinewidth": 0,
              "ticks": ""
             }
            },
            "type": "parcoords"
           }
          ],
          "pie": [
           {
            "automargin": true,
            "type": "pie"
           }
          ],
          "scatter": [
           {
            "marker": {
             "colorbar": {
              "outlinewidth": 0,
              "ticks": ""
             }
            },
            "type": "scatter"
           }
          ],
          "scatter3d": [
           {
            "line": {
             "colorbar": {
              "outlinewidth": 0,
              "ticks": ""
             }
            },
            "marker": {
             "colorbar": {
              "outlinewidth": 0,
              "ticks": ""
             }
            },
            "type": "scatter3d"
           }
          ],
          "scattercarpet": [
           {
            "marker": {
             "colorbar": {
              "outlinewidth": 0,
              "ticks": ""
             }
            },
            "type": "scattercarpet"
           }
          ],
          "scattergeo": [
           {
            "marker": {
             "colorbar": {
              "outlinewidth": 0,
              "ticks": ""
             }
            },
            "type": "scattergeo"
           }
          ],
          "scattergl": [
           {
            "marker": {
             "colorbar": {
              "outlinewidth": 0,
              "ticks": ""
             }
            },
            "type": "scattergl"
           }
          ],
          "scattermapbox": [
           {
            "marker": {
             "colorbar": {
              "outlinewidth": 0,
              "ticks": ""
             }
            },
            "type": "scattermapbox"
           }
          ],
          "scatterpolar": [
           {
            "marker": {
             "colorbar": {
              "outlinewidth": 0,
              "ticks": ""
             }
            },
            "type": "scatterpolar"
           }
          ],
          "scatterpolargl": [
           {
            "marker": {
             "colorbar": {
              "outlinewidth": 0,
              "ticks": ""
             }
            },
            "type": "scatterpolargl"
           }
          ],
          "scatterternary": [
           {
            "marker": {
             "colorbar": {
              "outlinewidth": 0,
              "ticks": ""
             }
            },
            "type": "scatterternary"
           }
          ],
          "surface": [
           {
            "colorbar": {
             "outlinewidth": 0,
             "ticks": ""
            },
            "colorscale": [
             [
              0,
              "#0d0887"
             ],
             [
              0.1111111111111111,
              "#46039f"
             ],
             [
              0.2222222222222222,
              "#7201a8"
             ],
             [
              0.3333333333333333,
              "#9c179e"
             ],
             [
              0.4444444444444444,
              "#bd3786"
             ],
             [
              0.5555555555555556,
              "#d8576b"
             ],
             [
              0.6666666666666666,
              "#ed7953"
             ],
             [
              0.7777777777777778,
              "#fb9f3a"
             ],
             [
              0.8888888888888888,
              "#fdca26"
             ],
             [
              1,
              "#f0f921"
             ]
            ],
            "type": "surface"
           }
          ],
          "table": [
           {
            "cells": {
             "fill": {
              "color": "#EBF0F8"
             },
             "line": {
              "color": "white"
             }
            },
            "header": {
             "fill": {
              "color": "#C8D4E3"
             },
             "line": {
              "color": "white"
             }
            },
            "type": "table"
           }
          ]
         },
         "layout": {
          "annotationdefaults": {
           "arrowcolor": "#2a3f5f",
           "arrowhead": 0,
           "arrowwidth": 1
          },
          "coloraxis": {
           "colorbar": {
            "outlinewidth": 0,
            "ticks": ""
           }
          },
          "colorscale": {
           "diverging": [
            [
             0,
             "#8e0152"
            ],
            [
             0.1,
             "#c51b7d"
            ],
            [
             0.2,
             "#de77ae"
            ],
            [
             0.3,
             "#f1b6da"
            ],
            [
             0.4,
             "#fde0ef"
            ],
            [
             0.5,
             "#f7f7f7"
            ],
            [
             0.6,
             "#e6f5d0"
            ],
            [
             0.7,
             "#b8e186"
            ],
            [
             0.8,
             "#7fbc41"
            ],
            [
             0.9,
             "#4d9221"
            ],
            [
             1,
             "#276419"
            ]
           ],
           "sequential": [
            [
             0,
             "#0d0887"
            ],
            [
             0.1111111111111111,
             "#46039f"
            ],
            [
             0.2222222222222222,
             "#7201a8"
            ],
            [
             0.3333333333333333,
             "#9c179e"
            ],
            [
             0.4444444444444444,
             "#bd3786"
            ],
            [
             0.5555555555555556,
             "#d8576b"
            ],
            [
             0.6666666666666666,
             "#ed7953"
            ],
            [
             0.7777777777777778,
             "#fb9f3a"
            ],
            [
             0.8888888888888888,
             "#fdca26"
            ],
            [
             1,
             "#f0f921"
            ]
           ],
           "sequentialminus": [
            [
             0,
             "#0d0887"
            ],
            [
             0.1111111111111111,
             "#46039f"
            ],
            [
             0.2222222222222222,
             "#7201a8"
            ],
            [
             0.3333333333333333,
             "#9c179e"
            ],
            [
             0.4444444444444444,
             "#bd3786"
            ],
            [
             0.5555555555555556,
             "#d8576b"
            ],
            [
             0.6666666666666666,
             "#ed7953"
            ],
            [
             0.7777777777777778,
             "#fb9f3a"
            ],
            [
             0.8888888888888888,
             "#fdca26"
            ],
            [
             1,
             "#f0f921"
            ]
           ]
          },
          "colorway": [
           "#636efa",
           "#EF553B",
           "#00cc96",
           "#ab63fa",
           "#FFA15A",
           "#19d3f3",
           "#FF6692",
           "#B6E880",
           "#FF97FF",
           "#FECB52"
          ],
          "font": {
           "color": "#2a3f5f"
          },
          "geo": {
           "bgcolor": "white",
           "lakecolor": "white",
           "landcolor": "#E5ECF6",
           "showlakes": true,
           "showland": true,
           "subunitcolor": "white"
          },
          "hoverlabel": {
           "align": "left"
          },
          "hovermode": "closest",
          "mapbox": {
           "style": "light"
          },
          "paper_bgcolor": "white",
          "plot_bgcolor": "#E5ECF6",
          "polar": {
           "angularaxis": {
            "gridcolor": "white",
            "linecolor": "white",
            "ticks": ""
           },
           "bgcolor": "#E5ECF6",
           "radialaxis": {
            "gridcolor": "white",
            "linecolor": "white",
            "ticks": ""
           }
          },
          "scene": {
           "xaxis": {
            "backgroundcolor": "#E5ECF6",
            "gridcolor": "white",
            "gridwidth": 2,
            "linecolor": "white",
            "showbackground": true,
            "ticks": "",
            "zerolinecolor": "white"
           },
           "yaxis": {
            "backgroundcolor": "#E5ECF6",
            "gridcolor": "white",
            "gridwidth": 2,
            "linecolor": "white",
            "showbackground": true,
            "ticks": "",
            "zerolinecolor": "white"
           },
           "zaxis": {
            "backgroundcolor": "#E5ECF6",
            "gridcolor": "white",
            "gridwidth": 2,
            "linecolor": "white",
            "showbackground": true,
            "ticks": "",
            "zerolinecolor": "white"
           }
          },
          "shapedefaults": {
           "line": {
            "color": "#2a3f5f"
           }
          },
          "ternary": {
           "aaxis": {
            "gridcolor": "white",
            "linecolor": "white",
            "ticks": ""
           },
           "baxis": {
            "gridcolor": "white",
            "linecolor": "white",
            "ticks": ""
           },
           "bgcolor": "#E5ECF6",
           "caxis": {
            "gridcolor": "white",
            "linecolor": "white",
            "ticks": ""
           }
          },
          "title": {
           "x": 0.05
          },
          "xaxis": {
           "automargin": true,
           "gridcolor": "white",
           "linecolor": "white",
           "ticks": "",
           "title": {
            "standoff": 15
           },
           "zerolinecolor": "white",
           "zerolinewidth": 2
          },
          "yaxis": {
           "automargin": true,
           "gridcolor": "white",
           "linecolor": "white",
           "ticks": "",
           "title": {
            "standoff": 15
           },
           "zerolinecolor": "white",
           "zerolinewidth": 2
          }
         }
        },
        "title": {
         "text": "LinReg from Sklearn:"
        },
        "width": 600
       }
      },
      "text/html": [
       "<div>                            <div id=\"ccfc4847-1b23-4563-984d-582c33b74077\" class=\"plotly-graph-div\" style=\"height:600px; width:600px;\"></div>            <script type=\"text/javascript\">                require([\"plotly\"], function(Plotly) {                    window.PLOTLYENV=window.PLOTLYENV || {};                                    if (document.getElementById(\"ccfc4847-1b23-4563-984d-582c33b74077\")) {                    Plotly.newPlot(                        \"ccfc4847-1b23-4563-984d-582c33b74077\",                        [{\"color\": \"red\", \"showscale\": true, \"type\": \"mesh3d\", \"x\": [0.0020646355744217137, 0.95612315955996, 0.6383901057769485, 0.9478218871115895, 0.3296511575814126, 0.10816552447633765, 0.22121812773159233, 0.10244628177193038, 0.2766497302091896, 0.3498976805038789, 0.024577024306966067, 0.23057128969382001, 0.8002556035835235, 0.3165502100270866, 0.1039908379712331, 0.7510322995349188, 0.42600238766956056, 0.10357846344837218, 0.5905853790479337, 0.7986892488839027, 0.2991536445438161, 0.48627208632931485, 0.9838538296816167, 0.3895485073455688, 0.9446257184221241, 0.720265852504758, 0.6646655865344386, 0.198990939925484, 0.7068718094201221, 0.9279761665983579, 0.8161507522663684, 0.2763371527370494, 0.3798939037860174, 0.668218229542771, 0.019462467309300346, 0.3085279595544005, 0.8882650405440435, 0.652999760945243, 0.5488492673993047, 0.09861036872281104, 0.04117979132812166, 0.8075638041598735, 0.6271607114618583, 0.16981950317171468, 0.7732591260670232, 0.9829991349165325, 0.9926669934642663, 0.9382561369639623, 0.458212259758612, 0.20362093207723198], \"y\": [0.19891133466685962, 0.3304405726028439, 0.2808594946322427, 0.7285587299494868, 0.7917614211803709, 0.3923189400654594, 0.6837264472760463, 0.3970258322826741, 0.5063429193238042, 0.706410577667011, 0.6339869213059075, 0.2687090287568493, 0.9555683939804208, 0.8268052703690757, 0.6339816530073832, 0.15597792803445654, 0.8927071642489816, 0.01809635820147515, 0.43553154053093346, 0.9234555382041066, 0.3884041171691053, 0.5881514604352993, 0.6973302508300515, 0.2637676864504621, 0.1355484331085064, 0.9253950252924407, 0.42305444016612115, 0.36747532225192725, 0.6495342241752968, 0.8668609136593749, 0.9114508753507623, 0.3695235401396495, 0.5604505887097803, 0.2867166830403943, 0.3992223836579093, 0.9421847190180479, 0.8603106783434196, 0.3442891646989389, 0.8152250407163727, 0.8010748802553047, 0.8164210312143557, 0.051007308828755815, 0.5024530743128972, 0.14837893767737564, 0.5676927488368441, 0.9822477772883441, 0.11861551836576589, 0.2445696090205628, 0.7574065558217259, 0.5663116055543299], \"z\": [2.4384299619351557, 5.651998084583406, 4.556022469193445, 7.4036079236897905, 5.982968979887085, 3.5926603645750506, 5.202834402687111, 3.5978897920099144, 4.564860057012975, 5.658303585026605, 4.439620261001542, 3.378798846561187, 8.009049084521465, 6.103086587474323, 4.65828961294633, 4.309605698693365, 6.6982345022153496, 1.9120641697246328, 5.113771640354906, 7.8616039538676095, 4.101161909346145, 5.506758713178304, 7.363644233833897, 3.794572183916408, 4.751673534541614, 7.654283144252608, 5.262164341951383, 3.732047311170751, 6.38784662356189, 7.965388844988929, 7.856183599179937, 3.9541755087818395, 5.0903435656092375, 4.664270646637906, 3.379156099285166, 6.595257492831138, 7.826835463055257, 4.87897031590763, 6.69118596368679, 5.388231347911555, 5.298476815459884, 3.9974151129963125, 5.512773160759499, 2.675169607169428, 6.205887293675893, 8.6312091634434, 4.808499007126585, 5.220055882648934, 6.18388091517096, 4.631039633780697]}, {\"marker\": {\"color\": \"blue\", \"opacity\": 0.7, \"size\": 5}, \"mode\": \"markers\", \"type\": \"scatter3d\", \"x\": [0.0020646355744217137, 0.95612315955996, 0.6383901057769485, 0.9478218871115895, 0.3296511575814126, 0.10816552447633765, 0.22121812773159233, 0.10244628177193038, 0.2766497302091896, 0.3498976805038789, 0.024577024306966067, 0.23057128969382001, 0.8002556035835235, 0.3165502100270866, 0.1039908379712331, 0.7510322995349188, 0.42600238766956056, 0.10357846344837218, 0.5905853790479337, 0.7986892488839027, 0.2991536445438161, 0.48627208632931485, 0.9838538296816167, 0.3895485073455688, 0.9446257184221241, 0.720265852504758, 0.6646655865344386, 0.198990939925484, 0.7068718094201221, 0.9279761665983579, 0.8161507522663684, 0.2763371527370494, 0.3798939037860174, 0.668218229542771, 0.019462467309300346, 0.3085279595544005, 0.8882650405440435, 0.652999760945243, 0.5488492673993047, 0.09861036872281104, 0.04117979132812166, 0.8075638041598735, 0.6271607114618583, 0.16981950317171468, 0.7732591260670232, 0.9829991349165325, 0.9926669934642663, 0.9382561369639623, 0.458212259758612, 0.20362093207723198], \"y\": [0.19891133466685962, 0.3304405726028439, 0.2808594946322427, 0.7285587299494868, 0.7917614211803709, 0.3923189400654594, 0.6837264472760463, 0.3970258322826741, 0.5063429193238042, 0.706410577667011, 0.6339869213059075, 0.2687090287568493, 0.9555683939804208, 0.8268052703690757, 0.6339816530073832, 0.15597792803445654, 0.8927071642489816, 0.01809635820147515, 0.43553154053093346, 0.9234555382041066, 0.3884041171691053, 0.5881514604352993, 0.6973302508300515, 0.2637676864504621, 0.1355484331085064, 0.9253950252924407, 0.42305444016612115, 0.36747532225192725, 0.6495342241752968, 0.8668609136593749, 0.9114508753507623, 0.3695235401396495, 0.5604505887097803, 0.2867166830403943, 0.3992223836579093, 0.9421847190180479, 0.8603106783434196, 0.3442891646989389, 0.8152250407163727, 0.8010748802553047, 0.8164210312143557, 0.051007308828755815, 0.5024530743128972, 0.14837893767737564, 0.5676927488368441, 0.9822477772883441, 0.11861551836576589, 0.2445696090205628, 0.7574065558217259, 0.5663116055543299], \"z\": [1.9876559936166993, 5.294867875772549, 4.155166908289415, 7.115339615980934, 5.160653994302905, 3.31862625489254, 5.062757277380111, 3.297130359450476, 3.94111546844262, 4.938024214203321, 3.8877952709093897, 2.935862674652458, 8.188135359890223, 5.408101936531647, 4.653361563348229, 4.463116552483727, 6.418122739988902, 1.8952015390748016, 5.485645375381486, 7.453734674559772, 4.238993153261745, 5.3667162081961015, 7.136516159990783, 4.179182201144336, 4.974386857065085, 6.981294600830051, 5.103753721264656, 3.848455836465768, 6.412499348200768, 8.167712484269147, 7.353633142343674, 4.06529933512357, 4.841359273591694, 4.7251311677567065, 3.610323617565821, 6.67360907472457, 7.967628798931373, 4.695253029361781, 6.795148800790725, 5.138739804831065, 4.819220279312501, 3.662463330295127, 5.661422555828746, 2.60507984094876, 6.376736873013506, 8.626011313246243, 5.246030421904216, 5.0936980056709045, 6.205061601630371, 4.424955546915182]}],                        {\"autosize\": false, \"height\": 600, \"margin\": {\"b\": 65, \"l\": 65, \"r\": 50, \"t\": 90}, \"template\": {\"data\": {\"bar\": [{\"error_x\": {\"color\": \"#2a3f5f\"}, \"error_y\": {\"color\": \"#2a3f5f\"}, \"marker\": {\"line\": {\"color\": \"#E5ECF6\", \"width\": 0.5}}, \"type\": \"bar\"}], \"barpolar\": [{\"marker\": {\"line\": {\"color\": \"#E5ECF6\", \"width\": 0.5}}, \"type\": \"barpolar\"}], \"carpet\": [{\"aaxis\": {\"endlinecolor\": \"#2a3f5f\", \"gridcolor\": \"white\", \"linecolor\": \"white\", \"minorgridcolor\": \"white\", \"startlinecolor\": \"#2a3f5f\"}, \"baxis\": {\"endlinecolor\": \"#2a3f5f\", \"gridcolor\": \"white\", \"linecolor\": \"white\", \"minorgridcolor\": \"white\", \"startlinecolor\": \"#2a3f5f\"}, \"type\": \"carpet\"}], \"choropleth\": [{\"colorbar\": {\"outlinewidth\": 0, \"ticks\": \"\"}, \"type\": \"choropleth\"}], \"contour\": [{\"colorbar\": {\"outlinewidth\": 0, \"ticks\": \"\"}, \"colorscale\": [[0.0, \"#0d0887\"], [0.1111111111111111, \"#46039f\"], [0.2222222222222222, \"#7201a8\"], [0.3333333333333333, \"#9c179e\"], [0.4444444444444444, \"#bd3786\"], [0.5555555555555556, \"#d8576b\"], [0.6666666666666666, \"#ed7953\"], [0.7777777777777778, \"#fb9f3a\"], [0.8888888888888888, \"#fdca26\"], [1.0, \"#f0f921\"]], \"type\": \"contour\"}], \"contourcarpet\": [{\"colorbar\": {\"outlinewidth\": 0, \"ticks\": \"\"}, \"type\": \"contourcarpet\"}], \"heatmap\": [{\"colorbar\": {\"outlinewidth\": 0, \"ticks\": \"\"}, \"colorscale\": [[0.0, \"#0d0887\"], [0.1111111111111111, \"#46039f\"], [0.2222222222222222, \"#7201a8\"], [0.3333333333333333, \"#9c179e\"], [0.4444444444444444, \"#bd3786\"], [0.5555555555555556, \"#d8576b\"], [0.6666666666666666, \"#ed7953\"], [0.7777777777777778, \"#fb9f3a\"], [0.8888888888888888, \"#fdca26\"], [1.0, \"#f0f921\"]], \"type\": \"heatmap\"}], \"heatmapgl\": [{\"colorbar\": {\"outlinewidth\": 0, \"ticks\": \"\"}, \"colorscale\": [[0.0, \"#0d0887\"], [0.1111111111111111, \"#46039f\"], [0.2222222222222222, \"#7201a8\"], [0.3333333333333333, \"#9c179e\"], [0.4444444444444444, \"#bd3786\"], [0.5555555555555556, \"#d8576b\"], [0.6666666666666666, \"#ed7953\"], [0.7777777777777778, \"#fb9f3a\"], [0.8888888888888888, \"#fdca26\"], [1.0, \"#f0f921\"]], \"type\": \"heatmapgl\"}], \"histogram\": [{\"marker\": {\"colorbar\": {\"outlinewidth\": 0, \"ticks\": \"\"}}, \"type\": \"histogram\"}], \"histogram2d\": [{\"colorbar\": {\"outlinewidth\": 0, \"ticks\": \"\"}, \"colorscale\": [[0.0, \"#0d0887\"], [0.1111111111111111, \"#46039f\"], [0.2222222222222222, \"#7201a8\"], [0.3333333333333333, \"#9c179e\"], [0.4444444444444444, \"#bd3786\"], [0.5555555555555556, \"#d8576b\"], [0.6666666666666666, \"#ed7953\"], [0.7777777777777778, \"#fb9f3a\"], [0.8888888888888888, \"#fdca26\"], [1.0, \"#f0f921\"]], \"type\": \"histogram2d\"}], \"histogram2dcontour\": [{\"colorbar\": {\"outlinewidth\": 0, \"ticks\": \"\"}, \"colorscale\": [[0.0, \"#0d0887\"], [0.1111111111111111, \"#46039f\"], [0.2222222222222222, \"#7201a8\"], [0.3333333333333333, \"#9c179e\"], [0.4444444444444444, \"#bd3786\"], [0.5555555555555556, \"#d8576b\"], [0.6666666666666666, \"#ed7953\"], [0.7777777777777778, \"#fb9f3a\"], [0.8888888888888888, \"#fdca26\"], [1.0, \"#f0f921\"]], \"type\": \"histogram2dcontour\"}], \"mesh3d\": [{\"colorbar\": {\"outlinewidth\": 0, \"ticks\": \"\"}, \"type\": \"mesh3d\"}], \"parcoords\": [{\"line\": {\"colorbar\": {\"outlinewidth\": 0, \"ticks\": \"\"}}, \"type\": \"parcoords\"}], \"pie\": [{\"automargin\": true, \"type\": \"pie\"}], \"scatter\": [{\"marker\": {\"colorbar\": {\"outlinewidth\": 0, \"ticks\": \"\"}}, \"type\": \"scatter\"}], \"scatter3d\": [{\"line\": {\"colorbar\": {\"outlinewidth\": 0, \"ticks\": \"\"}}, \"marker\": {\"colorbar\": {\"outlinewidth\": 0, \"ticks\": \"\"}}, \"type\": \"scatter3d\"}], \"scattercarpet\": [{\"marker\": {\"colorbar\": {\"outlinewidth\": 0, \"ticks\": \"\"}}, \"type\": \"scattercarpet\"}], \"scattergeo\": [{\"marker\": {\"colorbar\": {\"outlinewidth\": 0, \"ticks\": \"\"}}, \"type\": \"scattergeo\"}], \"scattergl\": [{\"marker\": {\"colorbar\": {\"outlinewidth\": 0, \"ticks\": \"\"}}, \"type\": \"scattergl\"}], \"scattermapbox\": [{\"marker\": {\"colorbar\": {\"outlinewidth\": 0, \"ticks\": \"\"}}, \"type\": \"scattermapbox\"}], \"scatterpolar\": [{\"marker\": {\"colorbar\": {\"outlinewidth\": 0, \"ticks\": \"\"}}, \"type\": \"scatterpolar\"}], \"scatterpolargl\": [{\"marker\": {\"colorbar\": {\"outlinewidth\": 0, \"ticks\": \"\"}}, \"type\": \"scatterpolargl\"}], \"scatterternary\": [{\"marker\": {\"colorbar\": {\"outlinewidth\": 0, \"ticks\": \"\"}}, \"type\": \"scatterternary\"}], \"surface\": [{\"colorbar\": {\"outlinewidth\": 0, \"ticks\": \"\"}, \"colorscale\": [[0.0, \"#0d0887\"], [0.1111111111111111, \"#46039f\"], [0.2222222222222222, \"#7201a8\"], [0.3333333333333333, \"#9c179e\"], [0.4444444444444444, \"#bd3786\"], [0.5555555555555556, \"#d8576b\"], [0.6666666666666666, \"#ed7953\"], [0.7777777777777778, \"#fb9f3a\"], [0.8888888888888888, \"#fdca26\"], [1.0, \"#f0f921\"]], \"type\": \"surface\"}], \"table\": [{\"cells\": {\"fill\": {\"color\": \"#EBF0F8\"}, \"line\": {\"color\": \"white\"}}, \"header\": {\"fill\": {\"color\": \"#C8D4E3\"}, \"line\": {\"color\": \"white\"}}, \"type\": \"table\"}]}, \"layout\": {\"annotationdefaults\": {\"arrowcolor\": \"#2a3f5f\", \"arrowhead\": 0, \"arrowwidth\": 1}, \"coloraxis\": {\"colorbar\": {\"outlinewidth\": 0, \"ticks\": \"\"}}, \"colorscale\": {\"diverging\": [[0, \"#8e0152\"], [0.1, \"#c51b7d\"], [0.2, \"#de77ae\"], [0.3, \"#f1b6da\"], [0.4, \"#fde0ef\"], [0.5, \"#f7f7f7\"], [0.6, \"#e6f5d0\"], [0.7, \"#b8e186\"], [0.8, \"#7fbc41\"], [0.9, \"#4d9221\"], [1, \"#276419\"]], \"sequential\": [[0.0, \"#0d0887\"], [0.1111111111111111, \"#46039f\"], [0.2222222222222222, \"#7201a8\"], [0.3333333333333333, \"#9c179e\"], [0.4444444444444444, \"#bd3786\"], [0.5555555555555556, \"#d8576b\"], [0.6666666666666666, \"#ed7953\"], [0.7777777777777778, \"#fb9f3a\"], [0.8888888888888888, \"#fdca26\"], [1.0, \"#f0f921\"]], \"sequentialminus\": [[0.0, \"#0d0887\"], [0.1111111111111111, \"#46039f\"], [0.2222222222222222, \"#7201a8\"], [0.3333333333333333, \"#9c179e\"], [0.4444444444444444, \"#bd3786\"], [0.5555555555555556, \"#d8576b\"], [0.6666666666666666, \"#ed7953\"], [0.7777777777777778, \"#fb9f3a\"], [0.8888888888888888, \"#fdca26\"], [1.0, \"#f0f921\"]]}, \"colorway\": [\"#636efa\", \"#EF553B\", \"#00cc96\", \"#ab63fa\", \"#FFA15A\", \"#19d3f3\", \"#FF6692\", \"#B6E880\", \"#FF97FF\", \"#FECB52\"], \"font\": {\"color\": \"#2a3f5f\"}, \"geo\": {\"bgcolor\": \"white\", \"lakecolor\": \"white\", \"landcolor\": \"#E5ECF6\", \"showlakes\": true, \"showland\": true, \"subunitcolor\": \"white\"}, \"hoverlabel\": {\"align\": \"left\"}, \"hovermode\": \"closest\", \"mapbox\": {\"style\": \"light\"}, \"paper_bgcolor\": \"white\", \"plot_bgcolor\": \"#E5ECF6\", \"polar\": {\"angularaxis\": {\"gridcolor\": \"white\", \"linecolor\": \"white\", \"ticks\": \"\"}, \"bgcolor\": \"#E5ECF6\", \"radialaxis\": {\"gridcolor\": \"white\", \"linecolor\": \"white\", \"ticks\": \"\"}}, \"scene\": {\"xaxis\": {\"backgroundcolor\": \"#E5ECF6\", \"gridcolor\": \"white\", \"gridwidth\": 2, \"linecolor\": \"white\", \"showbackground\": true, \"ticks\": \"\", \"zerolinecolor\": \"white\"}, \"yaxis\": {\"backgroundcolor\": \"#E5ECF6\", \"gridcolor\": \"white\", \"gridwidth\": 2, \"linecolor\": \"white\", \"showbackground\": true, \"ticks\": \"\", \"zerolinecolor\": \"white\"}, \"zaxis\": {\"backgroundcolor\": \"#E5ECF6\", \"gridcolor\": \"white\", \"gridwidth\": 2, \"linecolor\": \"white\", \"showbackground\": true, \"ticks\": \"\", \"zerolinecolor\": \"white\"}}, \"shapedefaults\": {\"line\": {\"color\": \"#2a3f5f\"}}, \"ternary\": {\"aaxis\": {\"gridcolor\": \"white\", \"linecolor\": \"white\", \"ticks\": \"\"}, \"baxis\": {\"gridcolor\": \"white\", \"linecolor\": \"white\", \"ticks\": \"\"}, \"bgcolor\": \"#E5ECF6\", \"caxis\": {\"gridcolor\": \"white\", \"linecolor\": \"white\", \"ticks\": \"\"}}, \"title\": {\"x\": 0.05}, \"xaxis\": {\"automargin\": true, \"gridcolor\": \"white\", \"linecolor\": \"white\", \"ticks\": \"\", \"title\": {\"standoff\": 15}, \"zerolinecolor\": \"white\", \"zerolinewidth\": 2}, \"yaxis\": {\"automargin\": true, \"gridcolor\": \"white\", \"linecolor\": \"white\", \"ticks\": \"\", \"title\": {\"standoff\": 15}, \"zerolinecolor\": \"white\", \"zerolinewidth\": 2}}}, \"title\": {\"text\": \"LinReg from Sklearn:\"}, \"width\": 600},                        {\"responsive\": true}                    ).then(function(){\n",
       "                            \n",
       "var gd = document.getElementById('ccfc4847-1b23-4563-984d-582c33b74077');\n",
       "var x = new MutationObserver(function (mutations, observer) {{\n",
       "        var display = window.getComputedStyle(gd).display;\n",
       "        if (!display || display === 'none') {{\n",
       "            console.log([gd, 'removed!']);\n",
       "            Plotly.purge(gd);\n",
       "            observer.disconnect();\n",
       "        }}\n",
       "}});\n",
       "\n",
       "// Listen for the removal of the full notebook cells\n",
       "var notebookContainer = gd.closest('#notebook-container');\n",
       "if (notebookContainer) {{\n",
       "    x.observe(notebookContainer, {childList: true});\n",
       "}}\n",
       "\n",
       "// Listen for the clearing of the current output cell\n",
       "var outputEl = gd.closest('.output');\n",
       "if (outputEl) {{\n",
       "    x.observe(outputEl, {childList: true});\n",
       "}}\n",
       "\n",
       "                        })                };                });            </script>        </div>"
      ]
     },
     "metadata": {},
     "output_type": "display_data"
    },
    {
     "data": {
      "application/vnd.plotly.v1+json": {
       "config": {
        "plotlyServerURL": "https://plot.ly"
       },
       "data": [
        {
         "color": "red",
         "showscale": true,
         "type": "mesh3d",
         "x": [
          0.0020646355744217137,
          0.95612315955996,
          0.6383901057769485,
          0.9478218871115895,
          0.3296511575814126,
          0.10816552447633765,
          0.22121812773159233,
          0.10244628177193038,
          0.2766497302091896,
          0.3498976805038789,
          0.024577024306966067,
          0.23057128969382001,
          0.8002556035835235,
          0.3165502100270866,
          0.1039908379712331,
          0.7510322995349188,
          0.42600238766956056,
          0.10357846344837218,
          0.5905853790479337,
          0.7986892488839027,
          0.2991536445438161,
          0.48627208632931485,
          0.9838538296816167,
          0.3895485073455688,
          0.9446257184221241,
          0.720265852504758,
          0.6646655865344386,
          0.198990939925484,
          0.7068718094201221,
          0.9279761665983579,
          0.8161507522663684,
          0.2763371527370494,
          0.3798939037860174,
          0.668218229542771,
          0.019462467309300346,
          0.3085279595544005,
          0.8882650405440435,
          0.652999760945243,
          0.5488492673993047,
          0.09861036872281104,
          0.04117979132812166,
          0.8075638041598735,
          0.6271607114618583,
          0.16981950317171468,
          0.7732591260670232,
          0.9829991349165325,
          0.9926669934642663,
          0.9382561369639623,
          0.458212259758612,
          0.20362093207723198
         ],
         "y": [
          0.19891133466685962,
          0.3304405726028439,
          0.2808594946322427,
          0.7285587299494868,
          0.7917614211803709,
          0.3923189400654594,
          0.6837264472760463,
          0.3970258322826741,
          0.5063429193238042,
          0.706410577667011,
          0.6339869213059075,
          0.2687090287568493,
          0.9555683939804208,
          0.8268052703690757,
          0.6339816530073832,
          0.15597792803445654,
          0.8927071642489816,
          0.01809635820147515,
          0.43553154053093346,
          0.9234555382041066,
          0.3884041171691053,
          0.5881514604352993,
          0.6973302508300515,
          0.2637676864504621,
          0.1355484331085064,
          0.9253950252924407,
          0.42305444016612115,
          0.36747532225192725,
          0.6495342241752968,
          0.8668609136593749,
          0.9114508753507623,
          0.3695235401396495,
          0.5604505887097803,
          0.2867166830403943,
          0.3992223836579093,
          0.9421847190180479,
          0.8603106783434196,
          0.3442891646989389,
          0.8152250407163727,
          0.8010748802553047,
          0.8164210312143557,
          0.051007308828755815,
          0.5024530743128972,
          0.14837893767737564,
          0.5676927488368441,
          0.9822477772883441,
          0.11861551836576589,
          0.2445696090205628,
          0.7574065558217259,
          0.5663116055543299
         ],
         "z": [
          2.4384299619572145,
          5.651998084562926,
          4.556022469187103,
          7.403607923671643,
          5.9829689798972305,
          3.5926603645932573,
          5.202834402701635,
          3.5978897920284036,
          4.564860057024117,
          5.658303585035415,
          4.439620261024721,
          3.3787988465732464,
          8.009049084511114,
          6.103086587485233,
          4.658289612965914,
          4.3096056986813105,
          6.69823450222163,
          1.9120641697412077,
          5.113771640351489,
          7.861603953857171,
          4.101161909355689,
          5.506758713180359,
          7.363644233813966,
          3.7945721839212463,
          4.751673534520696,
          7.6542831442457295,
          5.262164341944551,
          3.732047311184725,
          6.38784662355426,
          7.965388844972361,
          7.8561835991686495,
          3.9541755087923223,
          5.090343565615972,
          4.664270646630244,
          3.379156099307422,
          6.595257492842979,
          7.826835463040455,
          4.878970315900939,
          6.691185963687128,
          5.388231347932204,
          5.298476815483208,
          3.997415112981183,
          5.512773160754756,
          2.675169607183645,
          6.205887293664857,
          8.63120916342491,
          4.808499007103411,
          5.22005588262884,
          6.183880915175117,
          4.631039633795439
         ]
        },
        {
         "marker": {
          "color": "blue",
          "opacity": 0.7,
          "size": 5
         },
         "mode": "markers",
         "type": "scatter3d",
         "x": [
          0.0020646355744217137,
          0.95612315955996,
          0.6383901057769485,
          0.9478218871115895,
          0.3296511575814126,
          0.10816552447633765,
          0.22121812773159233,
          0.10244628177193038,
          0.2766497302091896,
          0.3498976805038789,
          0.024577024306966067,
          0.23057128969382001,
          0.8002556035835235,
          0.3165502100270866,
          0.1039908379712331,
          0.7510322995349188,
          0.42600238766956056,
          0.10357846344837218,
          0.5905853790479337,
          0.7986892488839027,
          0.2991536445438161,
          0.48627208632931485,
          0.9838538296816167,
          0.3895485073455688,
          0.9446257184221241,
          0.720265852504758,
          0.6646655865344386,
          0.198990939925484,
          0.7068718094201221,
          0.9279761665983579,
          0.8161507522663684,
          0.2763371527370494,
          0.3798939037860174,
          0.668218229542771,
          0.019462467309300346,
          0.3085279595544005,
          0.8882650405440435,
          0.652999760945243,
          0.5488492673993047,
          0.09861036872281104,
          0.04117979132812166,
          0.8075638041598735,
          0.6271607114618583,
          0.16981950317171468,
          0.7732591260670232,
          0.9829991349165325,
          0.9926669934642663,
          0.9382561369639623,
          0.458212259758612,
          0.20362093207723198
         ],
         "y": [
          0.19891133466685962,
          0.3304405726028439,
          0.2808594946322427,
          0.7285587299494868,
          0.7917614211803709,
          0.3923189400654594,
          0.6837264472760463,
          0.3970258322826741,
          0.5063429193238042,
          0.706410577667011,
          0.6339869213059075,
          0.2687090287568493,
          0.9555683939804208,
          0.8268052703690757,
          0.6339816530073832,
          0.15597792803445654,
          0.8927071642489816,
          0.01809635820147515,
          0.43553154053093346,
          0.9234555382041066,
          0.3884041171691053,
          0.5881514604352993,
          0.6973302508300515,
          0.2637676864504621,
          0.1355484331085064,
          0.9253950252924407,
          0.42305444016612115,
          0.36747532225192725,
          0.6495342241752968,
          0.8668609136593749,
          0.9114508753507623,
          0.3695235401396495,
          0.5604505887097803,
          0.2867166830403943,
          0.3992223836579093,
          0.9421847190180479,
          0.8603106783434196,
          0.3442891646989389,
          0.8152250407163727,
          0.8010748802553047,
          0.8164210312143557,
          0.051007308828755815,
          0.5024530743128972,
          0.14837893767737564,
          0.5676927488368441,
          0.9822477772883441,
          0.11861551836576589,
          0.2445696090205628,
          0.7574065558217259,
          0.5663116055543299
         ],
         "z": [
          1.9876559936166993,
          5.294867875772549,
          4.155166908289415,
          7.115339615980934,
          5.160653994302905,
          3.31862625489254,
          5.062757277380111,
          3.297130359450476,
          3.94111546844262,
          4.938024214203321,
          3.8877952709093897,
          2.935862674652458,
          8.188135359890223,
          5.408101936531647,
          4.653361563348229,
          4.463116552483727,
          6.418122739988902,
          1.8952015390748016,
          5.485645375381486,
          7.453734674559772,
          4.238993153261745,
          5.3667162081961015,
          7.136516159990783,
          4.179182201144336,
          4.974386857065085,
          6.981294600830051,
          5.103753721264656,
          3.848455836465768,
          6.412499348200768,
          8.167712484269147,
          7.353633142343674,
          4.06529933512357,
          4.841359273591694,
          4.7251311677567065,
          3.610323617565821,
          6.67360907472457,
          7.967628798931373,
          4.695253029361781,
          6.795148800790725,
          5.138739804831065,
          4.819220279312501,
          3.662463330295127,
          5.661422555828746,
          2.60507984094876,
          6.376736873013506,
          8.626011313246243,
          5.246030421904216,
          5.0936980056709045,
          6.205061601630371,
          4.424955546915182
         ]
        }
       ],
       "layout": {
        "autosize": false,
        "height": 600,
        "margin": {
         "b": 65,
         "l": 65,
         "r": 50,
         "t": 90
        },
        "template": {
         "data": {
          "bar": [
           {
            "error_x": {
             "color": "#2a3f5f"
            },
            "error_y": {
             "color": "#2a3f5f"
            },
            "marker": {
             "line": {
              "color": "#E5ECF6",
              "width": 0.5
             }
            },
            "type": "bar"
           }
          ],
          "barpolar": [
           {
            "marker": {
             "line": {
              "color": "#E5ECF6",
              "width": 0.5
             }
            },
            "type": "barpolar"
           }
          ],
          "carpet": [
           {
            "aaxis": {
             "endlinecolor": "#2a3f5f",
             "gridcolor": "white",
             "linecolor": "white",
             "minorgridcolor": "white",
             "startlinecolor": "#2a3f5f"
            },
            "baxis": {
             "endlinecolor": "#2a3f5f",
             "gridcolor": "white",
             "linecolor": "white",
             "minorgridcolor": "white",
             "startlinecolor": "#2a3f5f"
            },
            "type": "carpet"
           }
          ],
          "choropleth": [
           {
            "colorbar": {
             "outlinewidth": 0,
             "ticks": ""
            },
            "type": "choropleth"
           }
          ],
          "contour": [
           {
            "colorbar": {
             "outlinewidth": 0,
             "ticks": ""
            },
            "colorscale": [
             [
              0,
              "#0d0887"
             ],
             [
              0.1111111111111111,
              "#46039f"
             ],
             [
              0.2222222222222222,
              "#7201a8"
             ],
             [
              0.3333333333333333,
              "#9c179e"
             ],
             [
              0.4444444444444444,
              "#bd3786"
             ],
             [
              0.5555555555555556,
              "#d8576b"
             ],
             [
              0.6666666666666666,
              "#ed7953"
             ],
             [
              0.7777777777777778,
              "#fb9f3a"
             ],
             [
              0.8888888888888888,
              "#fdca26"
             ],
             [
              1,
              "#f0f921"
             ]
            ],
            "type": "contour"
           }
          ],
          "contourcarpet": [
           {
            "colorbar": {
             "outlinewidth": 0,
             "ticks": ""
            },
            "type": "contourcarpet"
           }
          ],
          "heatmap": [
           {
            "colorbar": {
             "outlinewidth": 0,
             "ticks": ""
            },
            "colorscale": [
             [
              0,
              "#0d0887"
             ],
             [
              0.1111111111111111,
              "#46039f"
             ],
             [
              0.2222222222222222,
              "#7201a8"
             ],
             [
              0.3333333333333333,
              "#9c179e"
             ],
             [
              0.4444444444444444,
              "#bd3786"
             ],
             [
              0.5555555555555556,
              "#d8576b"
             ],
             [
              0.6666666666666666,
              "#ed7953"
             ],
             [
              0.7777777777777778,
              "#fb9f3a"
             ],
             [
              0.8888888888888888,
              "#fdca26"
             ],
             [
              1,
              "#f0f921"
             ]
            ],
            "type": "heatmap"
           }
          ],
          "heatmapgl": [
           {
            "colorbar": {
             "outlinewidth": 0,
             "ticks": ""
            },
            "colorscale": [
             [
              0,
              "#0d0887"
             ],
             [
              0.1111111111111111,
              "#46039f"
             ],
             [
              0.2222222222222222,
              "#7201a8"
             ],
             [
              0.3333333333333333,
              "#9c179e"
             ],
             [
              0.4444444444444444,
              "#bd3786"
             ],
             [
              0.5555555555555556,
              "#d8576b"
             ],
             [
              0.6666666666666666,
              "#ed7953"
             ],
             [
              0.7777777777777778,
              "#fb9f3a"
             ],
             [
              0.8888888888888888,
              "#fdca26"
             ],
             [
              1,
              "#f0f921"
             ]
            ],
            "type": "heatmapgl"
           }
          ],
          "histogram": [
           {
            "marker": {
             "colorbar": {
              "outlinewidth": 0,
              "ticks": ""
             }
            },
            "type": "histogram"
           }
          ],
          "histogram2d": [
           {
            "colorbar": {
             "outlinewidth": 0,
             "ticks": ""
            },
            "colorscale": [
             [
              0,
              "#0d0887"
             ],
             [
              0.1111111111111111,
              "#46039f"
             ],
             [
              0.2222222222222222,
              "#7201a8"
             ],
             [
              0.3333333333333333,
              "#9c179e"
             ],
             [
              0.4444444444444444,
              "#bd3786"
             ],
             [
              0.5555555555555556,
              "#d8576b"
             ],
             [
              0.6666666666666666,
              "#ed7953"
             ],
             [
              0.7777777777777778,
              "#fb9f3a"
             ],
             [
              0.8888888888888888,
              "#fdca26"
             ],
             [
              1,
              "#f0f921"
             ]
            ],
            "type": "histogram2d"
           }
          ],
          "histogram2dcontour": [
           {
            "colorbar": {
             "outlinewidth": 0,
             "ticks": ""
            },
            "colorscale": [
             [
              0,
              "#0d0887"
             ],
             [
              0.1111111111111111,
              "#46039f"
             ],
             [
              0.2222222222222222,
              "#7201a8"
             ],
             [
              0.3333333333333333,
              "#9c179e"
             ],
             [
              0.4444444444444444,
              "#bd3786"
             ],
             [
              0.5555555555555556,
              "#d8576b"
             ],
             [
              0.6666666666666666,
              "#ed7953"
             ],
             [
              0.7777777777777778,
              "#fb9f3a"
             ],
             [
              0.8888888888888888,
              "#fdca26"
             ],
             [
              1,
              "#f0f921"
             ]
            ],
            "type": "histogram2dcontour"
           }
          ],
          "mesh3d": [
           {
            "colorbar": {
             "outlinewidth": 0,
             "ticks": ""
            },
            "type": "mesh3d"
           }
          ],
          "parcoords": [
           {
            "line": {
             "colorbar": {
              "outlinewidth": 0,
              "ticks": ""
             }
            },
            "type": "parcoords"
           }
          ],
          "pie": [
           {
            "automargin": true,
            "type": "pie"
           }
          ],
          "scatter": [
           {
            "marker": {
             "colorbar": {
              "outlinewidth": 0,
              "ticks": ""
             }
            },
            "type": "scatter"
           }
          ],
          "scatter3d": [
           {
            "line": {
             "colorbar": {
              "outlinewidth": 0,
              "ticks": ""
             }
            },
            "marker": {
             "colorbar": {
              "outlinewidth": 0,
              "ticks": ""
             }
            },
            "type": "scatter3d"
           }
          ],
          "scattercarpet": [
           {
            "marker": {
             "colorbar": {
              "outlinewidth": 0,
              "ticks": ""
             }
            },
            "type": "scattercarpet"
           }
          ],
          "scattergeo": [
           {
            "marker": {
             "colorbar": {
              "outlinewidth": 0,
              "ticks": ""
             }
            },
            "type": "scattergeo"
           }
          ],
          "scattergl": [
           {
            "marker": {
             "colorbar": {
              "outlinewidth": 0,
              "ticks": ""
             }
            },
            "type": "scattergl"
           }
          ],
          "scattermapbox": [
           {
            "marker": {
             "colorbar": {
              "outlinewidth": 0,
              "ticks": ""
             }
            },
            "type": "scattermapbox"
           }
          ],
          "scatterpolar": [
           {
            "marker": {
             "colorbar": {
              "outlinewidth": 0,
              "ticks": ""
             }
            },
            "type": "scatterpolar"
           }
          ],
          "scatterpolargl": [
           {
            "marker": {
             "colorbar": {
              "outlinewidth": 0,
              "ticks": ""
             }
            },
            "type": "scatterpolargl"
           }
          ],
          "scatterternary": [
           {
            "marker": {
             "colorbar": {
              "outlinewidth": 0,
              "ticks": ""
             }
            },
            "type": "scatterternary"
           }
          ],
          "surface": [
           {
            "colorbar": {
             "outlinewidth": 0,
             "ticks": ""
            },
            "colorscale": [
             [
              0,
              "#0d0887"
             ],
             [
              0.1111111111111111,
              "#46039f"
             ],
             [
              0.2222222222222222,
              "#7201a8"
             ],
             [
              0.3333333333333333,
              "#9c179e"
             ],
             [
              0.4444444444444444,
              "#bd3786"
             ],
             [
              0.5555555555555556,
              "#d8576b"
             ],
             [
              0.6666666666666666,
              "#ed7953"
             ],
             [
              0.7777777777777778,
              "#fb9f3a"
             ],
             [
              0.8888888888888888,
              "#fdca26"
             ],
             [
              1,
              "#f0f921"
             ]
            ],
            "type": "surface"
           }
          ],
          "table": [
           {
            "cells": {
             "fill": {
              "color": "#EBF0F8"
             },
             "line": {
              "color": "white"
             }
            },
            "header": {
             "fill": {
              "color": "#C8D4E3"
             },
             "line": {
              "color": "white"
             }
            },
            "type": "table"
           }
          ]
         },
         "layout": {
          "annotationdefaults": {
           "arrowcolor": "#2a3f5f",
           "arrowhead": 0,
           "arrowwidth": 1
          },
          "coloraxis": {
           "colorbar": {
            "outlinewidth": 0,
            "ticks": ""
           }
          },
          "colorscale": {
           "diverging": [
            [
             0,
             "#8e0152"
            ],
            [
             0.1,
             "#c51b7d"
            ],
            [
             0.2,
             "#de77ae"
            ],
            [
             0.3,
             "#f1b6da"
            ],
            [
             0.4,
             "#fde0ef"
            ],
            [
             0.5,
             "#f7f7f7"
            ],
            [
             0.6,
             "#e6f5d0"
            ],
            [
             0.7,
             "#b8e186"
            ],
            [
             0.8,
             "#7fbc41"
            ],
            [
             0.9,
             "#4d9221"
            ],
            [
             1,
             "#276419"
            ]
           ],
           "sequential": [
            [
             0,
             "#0d0887"
            ],
            [
             0.1111111111111111,
             "#46039f"
            ],
            [
             0.2222222222222222,
             "#7201a8"
            ],
            [
             0.3333333333333333,
             "#9c179e"
            ],
            [
             0.4444444444444444,
             "#bd3786"
            ],
            [
             0.5555555555555556,
             "#d8576b"
            ],
            [
             0.6666666666666666,
             "#ed7953"
            ],
            [
             0.7777777777777778,
             "#fb9f3a"
            ],
            [
             0.8888888888888888,
             "#fdca26"
            ],
            [
             1,
             "#f0f921"
            ]
           ],
           "sequentialminus": [
            [
             0,
             "#0d0887"
            ],
            [
             0.1111111111111111,
             "#46039f"
            ],
            [
             0.2222222222222222,
             "#7201a8"
            ],
            [
             0.3333333333333333,
             "#9c179e"
            ],
            [
             0.4444444444444444,
             "#bd3786"
            ],
            [
             0.5555555555555556,
             "#d8576b"
            ],
            [
             0.6666666666666666,
             "#ed7953"
            ],
            [
             0.7777777777777778,
             "#fb9f3a"
            ],
            [
             0.8888888888888888,
             "#fdca26"
            ],
            [
             1,
             "#f0f921"
            ]
           ]
          },
          "colorway": [
           "#636efa",
           "#EF553B",
           "#00cc96",
           "#ab63fa",
           "#FFA15A",
           "#19d3f3",
           "#FF6692",
           "#B6E880",
           "#FF97FF",
           "#FECB52"
          ],
          "font": {
           "color": "#2a3f5f"
          },
          "geo": {
           "bgcolor": "white",
           "lakecolor": "white",
           "landcolor": "#E5ECF6",
           "showlakes": true,
           "showland": true,
           "subunitcolor": "white"
          },
          "hoverlabel": {
           "align": "left"
          },
          "hovermode": "closest",
          "mapbox": {
           "style": "light"
          },
          "paper_bgcolor": "white",
          "plot_bgcolor": "#E5ECF6",
          "polar": {
           "angularaxis": {
            "gridcolor": "white",
            "linecolor": "white",
            "ticks": ""
           },
           "bgcolor": "#E5ECF6",
           "radialaxis": {
            "gridcolor": "white",
            "linecolor": "white",
            "ticks": ""
           }
          },
          "scene": {
           "xaxis": {
            "backgroundcolor": "#E5ECF6",
            "gridcolor": "white",
            "gridwidth": 2,
            "linecolor": "white",
            "showbackground": true,
            "ticks": "",
            "zerolinecolor": "white"
           },
           "yaxis": {
            "backgroundcolor": "#E5ECF6",
            "gridcolor": "white",
            "gridwidth": 2,
            "linecolor": "white",
            "showbackground": true,
            "ticks": "",
            "zerolinecolor": "white"
           },
           "zaxis": {
            "backgroundcolor": "#E5ECF6",
            "gridcolor": "white",
            "gridwidth": 2,
            "linecolor": "white",
            "showbackground": true,
            "ticks": "",
            "zerolinecolor": "white"
           }
          },
          "shapedefaults": {
           "line": {
            "color": "#2a3f5f"
           }
          },
          "ternary": {
           "aaxis": {
            "gridcolor": "white",
            "linecolor": "white",
            "ticks": ""
           },
           "baxis": {
            "gridcolor": "white",
            "linecolor": "white",
            "ticks": ""
           },
           "bgcolor": "#E5ECF6",
           "caxis": {
            "gridcolor": "white",
            "linecolor": "white",
            "ticks": ""
           }
          },
          "title": {
           "x": 0.05
          },
          "xaxis": {
           "automargin": true,
           "gridcolor": "white",
           "linecolor": "white",
           "ticks": "",
           "title": {
            "standoff": 15
           },
           "zerolinecolor": "white",
           "zerolinewidth": 2
          },
          "yaxis": {
           "automargin": true,
           "gridcolor": "white",
           "linecolor": "white",
           "ticks": "",
           "title": {
            "standoff": 15
           },
           "zerolinecolor": "white",
           "zerolinewidth": 2
          }
         }
        },
        "title": {
         "text": "Self-written LinReg:"
        },
        "width": 600
       }
      },
      "text/html": [
       "<div>                            <div id=\"1e829cfb-060e-4918-9645-e6c16a32975f\" class=\"plotly-graph-div\" style=\"height:600px; width:600px;\"></div>            <script type=\"text/javascript\">                require([\"plotly\"], function(Plotly) {                    window.PLOTLYENV=window.PLOTLYENV || {};                                    if (document.getElementById(\"1e829cfb-060e-4918-9645-e6c16a32975f\")) {                    Plotly.newPlot(                        \"1e829cfb-060e-4918-9645-e6c16a32975f\",                        [{\"color\": \"red\", \"showscale\": true, \"type\": \"mesh3d\", \"x\": [0.0020646355744217137, 0.95612315955996, 0.6383901057769485, 0.9478218871115895, 0.3296511575814126, 0.10816552447633765, 0.22121812773159233, 0.10244628177193038, 0.2766497302091896, 0.3498976805038789, 0.024577024306966067, 0.23057128969382001, 0.8002556035835235, 0.3165502100270866, 0.1039908379712331, 0.7510322995349188, 0.42600238766956056, 0.10357846344837218, 0.5905853790479337, 0.7986892488839027, 0.2991536445438161, 0.48627208632931485, 0.9838538296816167, 0.3895485073455688, 0.9446257184221241, 0.720265852504758, 0.6646655865344386, 0.198990939925484, 0.7068718094201221, 0.9279761665983579, 0.8161507522663684, 0.2763371527370494, 0.3798939037860174, 0.668218229542771, 0.019462467309300346, 0.3085279595544005, 0.8882650405440435, 0.652999760945243, 0.5488492673993047, 0.09861036872281104, 0.04117979132812166, 0.8075638041598735, 0.6271607114618583, 0.16981950317171468, 0.7732591260670232, 0.9829991349165325, 0.9926669934642663, 0.9382561369639623, 0.458212259758612, 0.20362093207723198], \"y\": [0.19891133466685962, 0.3304405726028439, 0.2808594946322427, 0.7285587299494868, 0.7917614211803709, 0.3923189400654594, 0.6837264472760463, 0.3970258322826741, 0.5063429193238042, 0.706410577667011, 0.6339869213059075, 0.2687090287568493, 0.9555683939804208, 0.8268052703690757, 0.6339816530073832, 0.15597792803445654, 0.8927071642489816, 0.01809635820147515, 0.43553154053093346, 0.9234555382041066, 0.3884041171691053, 0.5881514604352993, 0.6973302508300515, 0.2637676864504621, 0.1355484331085064, 0.9253950252924407, 0.42305444016612115, 0.36747532225192725, 0.6495342241752968, 0.8668609136593749, 0.9114508753507623, 0.3695235401396495, 0.5604505887097803, 0.2867166830403943, 0.3992223836579093, 0.9421847190180479, 0.8603106783434196, 0.3442891646989389, 0.8152250407163727, 0.8010748802553047, 0.8164210312143557, 0.051007308828755815, 0.5024530743128972, 0.14837893767737564, 0.5676927488368441, 0.9822477772883441, 0.11861551836576589, 0.2445696090205628, 0.7574065558217259, 0.5663116055543299], \"z\": [2.4384299619572145, 5.651998084562926, 4.556022469187103, 7.403607923671643, 5.9829689798972305, 3.5926603645932573, 5.202834402701635, 3.5978897920284036, 4.564860057024117, 5.658303585035415, 4.439620261024721, 3.3787988465732464, 8.009049084511114, 6.103086587485233, 4.658289612965914, 4.3096056986813105, 6.69823450222163, 1.9120641697412077, 5.113771640351489, 7.861603953857171, 4.101161909355689, 5.506758713180359, 7.363644233813966, 3.7945721839212463, 4.751673534520696, 7.6542831442457295, 5.262164341944551, 3.732047311184725, 6.38784662355426, 7.965388844972361, 7.8561835991686495, 3.9541755087923223, 5.090343565615972, 4.664270646630244, 3.379156099307422, 6.595257492842979, 7.826835463040455, 4.878970315900939, 6.691185963687128, 5.388231347932204, 5.298476815483208, 3.997415112981183, 5.512773160754756, 2.675169607183645, 6.205887293664857, 8.63120916342491, 4.808499007103411, 5.22005588262884, 6.183880915175117, 4.631039633795439]}, {\"marker\": {\"color\": \"blue\", \"opacity\": 0.7, \"size\": 5}, \"mode\": \"markers\", \"type\": \"scatter3d\", \"x\": [0.0020646355744217137, 0.95612315955996, 0.6383901057769485, 0.9478218871115895, 0.3296511575814126, 0.10816552447633765, 0.22121812773159233, 0.10244628177193038, 0.2766497302091896, 0.3498976805038789, 0.024577024306966067, 0.23057128969382001, 0.8002556035835235, 0.3165502100270866, 0.1039908379712331, 0.7510322995349188, 0.42600238766956056, 0.10357846344837218, 0.5905853790479337, 0.7986892488839027, 0.2991536445438161, 0.48627208632931485, 0.9838538296816167, 0.3895485073455688, 0.9446257184221241, 0.720265852504758, 0.6646655865344386, 0.198990939925484, 0.7068718094201221, 0.9279761665983579, 0.8161507522663684, 0.2763371527370494, 0.3798939037860174, 0.668218229542771, 0.019462467309300346, 0.3085279595544005, 0.8882650405440435, 0.652999760945243, 0.5488492673993047, 0.09861036872281104, 0.04117979132812166, 0.8075638041598735, 0.6271607114618583, 0.16981950317171468, 0.7732591260670232, 0.9829991349165325, 0.9926669934642663, 0.9382561369639623, 0.458212259758612, 0.20362093207723198], \"y\": [0.19891133466685962, 0.3304405726028439, 0.2808594946322427, 0.7285587299494868, 0.7917614211803709, 0.3923189400654594, 0.6837264472760463, 0.3970258322826741, 0.5063429193238042, 0.706410577667011, 0.6339869213059075, 0.2687090287568493, 0.9555683939804208, 0.8268052703690757, 0.6339816530073832, 0.15597792803445654, 0.8927071642489816, 0.01809635820147515, 0.43553154053093346, 0.9234555382041066, 0.3884041171691053, 0.5881514604352993, 0.6973302508300515, 0.2637676864504621, 0.1355484331085064, 0.9253950252924407, 0.42305444016612115, 0.36747532225192725, 0.6495342241752968, 0.8668609136593749, 0.9114508753507623, 0.3695235401396495, 0.5604505887097803, 0.2867166830403943, 0.3992223836579093, 0.9421847190180479, 0.8603106783434196, 0.3442891646989389, 0.8152250407163727, 0.8010748802553047, 0.8164210312143557, 0.051007308828755815, 0.5024530743128972, 0.14837893767737564, 0.5676927488368441, 0.9822477772883441, 0.11861551836576589, 0.2445696090205628, 0.7574065558217259, 0.5663116055543299], \"z\": [1.9876559936166993, 5.294867875772549, 4.155166908289415, 7.115339615980934, 5.160653994302905, 3.31862625489254, 5.062757277380111, 3.297130359450476, 3.94111546844262, 4.938024214203321, 3.8877952709093897, 2.935862674652458, 8.188135359890223, 5.408101936531647, 4.653361563348229, 4.463116552483727, 6.418122739988902, 1.8952015390748016, 5.485645375381486, 7.453734674559772, 4.238993153261745, 5.3667162081961015, 7.136516159990783, 4.179182201144336, 4.974386857065085, 6.981294600830051, 5.103753721264656, 3.848455836465768, 6.412499348200768, 8.167712484269147, 7.353633142343674, 4.06529933512357, 4.841359273591694, 4.7251311677567065, 3.610323617565821, 6.67360907472457, 7.967628798931373, 4.695253029361781, 6.795148800790725, 5.138739804831065, 4.819220279312501, 3.662463330295127, 5.661422555828746, 2.60507984094876, 6.376736873013506, 8.626011313246243, 5.246030421904216, 5.0936980056709045, 6.205061601630371, 4.424955546915182]}],                        {\"autosize\": false, \"height\": 600, \"margin\": {\"b\": 65, \"l\": 65, \"r\": 50, \"t\": 90}, \"template\": {\"data\": {\"bar\": [{\"error_x\": {\"color\": \"#2a3f5f\"}, \"error_y\": {\"color\": \"#2a3f5f\"}, \"marker\": {\"line\": {\"color\": \"#E5ECF6\", \"width\": 0.5}}, \"type\": \"bar\"}], \"barpolar\": [{\"marker\": {\"line\": {\"color\": \"#E5ECF6\", \"width\": 0.5}}, \"type\": \"barpolar\"}], \"carpet\": [{\"aaxis\": {\"endlinecolor\": \"#2a3f5f\", \"gridcolor\": \"white\", \"linecolor\": \"white\", \"minorgridcolor\": \"white\", \"startlinecolor\": \"#2a3f5f\"}, \"baxis\": {\"endlinecolor\": \"#2a3f5f\", \"gridcolor\": \"white\", \"linecolor\": \"white\", \"minorgridcolor\": \"white\", \"startlinecolor\": \"#2a3f5f\"}, \"type\": \"carpet\"}], \"choropleth\": [{\"colorbar\": {\"outlinewidth\": 0, \"ticks\": \"\"}, \"type\": \"choropleth\"}], \"contour\": [{\"colorbar\": {\"outlinewidth\": 0, \"ticks\": \"\"}, \"colorscale\": [[0.0, \"#0d0887\"], [0.1111111111111111, \"#46039f\"], [0.2222222222222222, \"#7201a8\"], [0.3333333333333333, \"#9c179e\"], [0.4444444444444444, \"#bd3786\"], [0.5555555555555556, \"#d8576b\"], [0.6666666666666666, \"#ed7953\"], [0.7777777777777778, \"#fb9f3a\"], [0.8888888888888888, \"#fdca26\"], [1.0, \"#f0f921\"]], \"type\": \"contour\"}], \"contourcarpet\": [{\"colorbar\": {\"outlinewidth\": 0, \"ticks\": \"\"}, \"type\": \"contourcarpet\"}], \"heatmap\": [{\"colorbar\": {\"outlinewidth\": 0, \"ticks\": \"\"}, \"colorscale\": [[0.0, \"#0d0887\"], [0.1111111111111111, \"#46039f\"], [0.2222222222222222, \"#7201a8\"], [0.3333333333333333, \"#9c179e\"], [0.4444444444444444, \"#bd3786\"], [0.5555555555555556, \"#d8576b\"], [0.6666666666666666, \"#ed7953\"], [0.7777777777777778, \"#fb9f3a\"], [0.8888888888888888, \"#fdca26\"], [1.0, \"#f0f921\"]], \"type\": \"heatmap\"}], \"heatmapgl\": [{\"colorbar\": {\"outlinewidth\": 0, \"ticks\": \"\"}, \"colorscale\": [[0.0, \"#0d0887\"], [0.1111111111111111, \"#46039f\"], [0.2222222222222222, \"#7201a8\"], [0.3333333333333333, \"#9c179e\"], [0.4444444444444444, \"#bd3786\"], [0.5555555555555556, \"#d8576b\"], [0.6666666666666666, \"#ed7953\"], [0.7777777777777778, \"#fb9f3a\"], [0.8888888888888888, \"#fdca26\"], [1.0, \"#f0f921\"]], \"type\": \"heatmapgl\"}], \"histogram\": [{\"marker\": {\"colorbar\": {\"outlinewidth\": 0, \"ticks\": \"\"}}, \"type\": \"histogram\"}], \"histogram2d\": [{\"colorbar\": {\"outlinewidth\": 0, \"ticks\": \"\"}, \"colorscale\": [[0.0, \"#0d0887\"], [0.1111111111111111, \"#46039f\"], [0.2222222222222222, \"#7201a8\"], [0.3333333333333333, \"#9c179e\"], [0.4444444444444444, \"#bd3786\"], [0.5555555555555556, \"#d8576b\"], [0.6666666666666666, \"#ed7953\"], [0.7777777777777778, \"#fb9f3a\"], [0.8888888888888888, \"#fdca26\"], [1.0, \"#f0f921\"]], \"type\": \"histogram2d\"}], \"histogram2dcontour\": [{\"colorbar\": {\"outlinewidth\": 0, \"ticks\": \"\"}, \"colorscale\": [[0.0, \"#0d0887\"], [0.1111111111111111, \"#46039f\"], [0.2222222222222222, \"#7201a8\"], [0.3333333333333333, \"#9c179e\"], [0.4444444444444444, \"#bd3786\"], [0.5555555555555556, \"#d8576b\"], [0.6666666666666666, \"#ed7953\"], [0.7777777777777778, \"#fb9f3a\"], [0.8888888888888888, \"#fdca26\"], [1.0, \"#f0f921\"]], \"type\": \"histogram2dcontour\"}], \"mesh3d\": [{\"colorbar\": {\"outlinewidth\": 0, \"ticks\": \"\"}, \"type\": \"mesh3d\"}], \"parcoords\": [{\"line\": {\"colorbar\": {\"outlinewidth\": 0, \"ticks\": \"\"}}, \"type\": \"parcoords\"}], \"pie\": [{\"automargin\": true, \"type\": \"pie\"}], \"scatter\": [{\"marker\": {\"colorbar\": {\"outlinewidth\": 0, \"ticks\": \"\"}}, \"type\": \"scatter\"}], \"scatter3d\": [{\"line\": {\"colorbar\": {\"outlinewidth\": 0, \"ticks\": \"\"}}, \"marker\": {\"colorbar\": {\"outlinewidth\": 0, \"ticks\": \"\"}}, \"type\": \"scatter3d\"}], \"scattercarpet\": [{\"marker\": {\"colorbar\": {\"outlinewidth\": 0, \"ticks\": \"\"}}, \"type\": \"scattercarpet\"}], \"scattergeo\": [{\"marker\": {\"colorbar\": {\"outlinewidth\": 0, \"ticks\": \"\"}}, \"type\": \"scattergeo\"}], \"scattergl\": [{\"marker\": {\"colorbar\": {\"outlinewidth\": 0, \"ticks\": \"\"}}, \"type\": \"scattergl\"}], \"scattermapbox\": [{\"marker\": {\"colorbar\": {\"outlinewidth\": 0, \"ticks\": \"\"}}, \"type\": \"scattermapbox\"}], \"scatterpolar\": [{\"marker\": {\"colorbar\": {\"outlinewidth\": 0, \"ticks\": \"\"}}, \"type\": \"scatterpolar\"}], \"scatterpolargl\": [{\"marker\": {\"colorbar\": {\"outlinewidth\": 0, \"ticks\": \"\"}}, \"type\": \"scatterpolargl\"}], \"scatterternary\": [{\"marker\": {\"colorbar\": {\"outlinewidth\": 0, \"ticks\": \"\"}}, \"type\": \"scatterternary\"}], \"surface\": [{\"colorbar\": {\"outlinewidth\": 0, \"ticks\": \"\"}, \"colorscale\": [[0.0, \"#0d0887\"], [0.1111111111111111, \"#46039f\"], [0.2222222222222222, \"#7201a8\"], [0.3333333333333333, \"#9c179e\"], [0.4444444444444444, \"#bd3786\"], [0.5555555555555556, \"#d8576b\"], [0.6666666666666666, \"#ed7953\"], [0.7777777777777778, \"#fb9f3a\"], [0.8888888888888888, \"#fdca26\"], [1.0, \"#f0f921\"]], \"type\": \"surface\"}], \"table\": [{\"cells\": {\"fill\": {\"color\": \"#EBF0F8\"}, \"line\": {\"color\": \"white\"}}, \"header\": {\"fill\": {\"color\": \"#C8D4E3\"}, \"line\": {\"color\": \"white\"}}, \"type\": \"table\"}]}, \"layout\": {\"annotationdefaults\": {\"arrowcolor\": \"#2a3f5f\", \"arrowhead\": 0, \"arrowwidth\": 1}, \"coloraxis\": {\"colorbar\": {\"outlinewidth\": 0, \"ticks\": \"\"}}, \"colorscale\": {\"diverging\": [[0, \"#8e0152\"], [0.1, \"#c51b7d\"], [0.2, \"#de77ae\"], [0.3, \"#f1b6da\"], [0.4, \"#fde0ef\"], [0.5, \"#f7f7f7\"], [0.6, \"#e6f5d0\"], [0.7, \"#b8e186\"], [0.8, \"#7fbc41\"], [0.9, \"#4d9221\"], [1, \"#276419\"]], \"sequential\": [[0.0, \"#0d0887\"], [0.1111111111111111, \"#46039f\"], [0.2222222222222222, \"#7201a8\"], [0.3333333333333333, \"#9c179e\"], [0.4444444444444444, \"#bd3786\"], [0.5555555555555556, \"#d8576b\"], [0.6666666666666666, \"#ed7953\"], [0.7777777777777778, \"#fb9f3a\"], [0.8888888888888888, \"#fdca26\"], [1.0, \"#f0f921\"]], \"sequentialminus\": [[0.0, \"#0d0887\"], [0.1111111111111111, \"#46039f\"], [0.2222222222222222, \"#7201a8\"], [0.3333333333333333, \"#9c179e\"], [0.4444444444444444, \"#bd3786\"], [0.5555555555555556, \"#d8576b\"], [0.6666666666666666, \"#ed7953\"], [0.7777777777777778, \"#fb9f3a\"], [0.8888888888888888, \"#fdca26\"], [1.0, \"#f0f921\"]]}, \"colorway\": [\"#636efa\", \"#EF553B\", \"#00cc96\", \"#ab63fa\", \"#FFA15A\", \"#19d3f3\", \"#FF6692\", \"#B6E880\", \"#FF97FF\", \"#FECB52\"], \"font\": {\"color\": \"#2a3f5f\"}, \"geo\": {\"bgcolor\": \"white\", \"lakecolor\": \"white\", \"landcolor\": \"#E5ECF6\", \"showlakes\": true, \"showland\": true, \"subunitcolor\": \"white\"}, \"hoverlabel\": {\"align\": \"left\"}, \"hovermode\": \"closest\", \"mapbox\": {\"style\": \"light\"}, \"paper_bgcolor\": \"white\", \"plot_bgcolor\": \"#E5ECF6\", \"polar\": {\"angularaxis\": {\"gridcolor\": \"white\", \"linecolor\": \"white\", \"ticks\": \"\"}, \"bgcolor\": \"#E5ECF6\", \"radialaxis\": {\"gridcolor\": \"white\", \"linecolor\": \"white\", \"ticks\": \"\"}}, \"scene\": {\"xaxis\": {\"backgroundcolor\": \"#E5ECF6\", \"gridcolor\": \"white\", \"gridwidth\": 2, \"linecolor\": \"white\", \"showbackground\": true, \"ticks\": \"\", \"zerolinecolor\": \"white\"}, \"yaxis\": {\"backgroundcolor\": \"#E5ECF6\", \"gridcolor\": \"white\", \"gridwidth\": 2, \"linecolor\": \"white\", \"showbackground\": true, \"ticks\": \"\", \"zerolinecolor\": \"white\"}, \"zaxis\": {\"backgroundcolor\": \"#E5ECF6\", \"gridcolor\": \"white\", \"gridwidth\": 2, \"linecolor\": \"white\", \"showbackground\": true, \"ticks\": \"\", \"zerolinecolor\": \"white\"}}, \"shapedefaults\": {\"line\": {\"color\": \"#2a3f5f\"}}, \"ternary\": {\"aaxis\": {\"gridcolor\": \"white\", \"linecolor\": \"white\", \"ticks\": \"\"}, \"baxis\": {\"gridcolor\": \"white\", \"linecolor\": \"white\", \"ticks\": \"\"}, \"bgcolor\": \"#E5ECF6\", \"caxis\": {\"gridcolor\": \"white\", \"linecolor\": \"white\", \"ticks\": \"\"}}, \"title\": {\"x\": 0.05}, \"xaxis\": {\"automargin\": true, \"gridcolor\": \"white\", \"linecolor\": \"white\", \"ticks\": \"\", \"title\": {\"standoff\": 15}, \"zerolinecolor\": \"white\", \"zerolinewidth\": 2}, \"yaxis\": {\"automargin\": true, \"gridcolor\": \"white\", \"linecolor\": \"white\", \"ticks\": \"\", \"title\": {\"standoff\": 15}, \"zerolinecolor\": \"white\", \"zerolinewidth\": 2}}}, \"title\": {\"text\": \"Self-written LinReg:\"}, \"width\": 600},                        {\"responsive\": true}                    ).then(function(){\n",
       "                            \n",
       "var gd = document.getElementById('1e829cfb-060e-4918-9645-e6c16a32975f');\n",
       "var x = new MutationObserver(function (mutations, observer) {{\n",
       "        var display = window.getComputedStyle(gd).display;\n",
       "        if (!display || display === 'none') {{\n",
       "            console.log([gd, 'removed!']);\n",
       "            Plotly.purge(gd);\n",
       "            observer.disconnect();\n",
       "        }}\n",
       "}});\n",
       "\n",
       "// Listen for the removal of the full notebook cells\n",
       "var notebookContainer = gd.closest('#notebook-container');\n",
       "if (notebookContainer) {{\n",
       "    x.observe(notebookContainer, {childList: true});\n",
       "}}\n",
       "\n",
       "// Listen for the clearing of the current output cell\n",
       "var outputEl = gd.closest('.output');\n",
       "if (outputEl) {{\n",
       "    x.observe(outputEl, {childList: true});\n",
       "}}\n",
       "\n",
       "                        })                };                });            </script>        </div>"
      ]
     },
     "metadata": {},
     "output_type": "display_data"
    }
   ],
   "source": [
    "if n_dim == 2:\n",
    "    print('Images are interactive!!!')\n",
    "    x = x_test[:, 0]\n",
    "    y = x_test[:, 1]\n",
    "    z_sk = sk_model.intercept_[0] + sk_model.coef_[0][0]*x + sk_model.coef_[0][1]*y\n",
    "    z_my = my_model.w_[-1] + my_model.w_[0]*x + my_model.w_[1]*y\n",
    "    z_true = y_test[:, 0]\n",
    "    fig_sk = go.Figure(data=[\n",
    "        go.Mesh3d(\n",
    "            x=x,\n",
    "            y=y,\n",
    "            z=z_sk,\n",
    "            color='red',\n",
    "            showscale=True\n",
    "        ),\n",
    "        go.Scatter3d(\n",
    "            x=x,\n",
    "            y=y,\n",
    "            z=z_true,\n",
    "            mode='markers',\n",
    "            marker=dict(\n",
    "                size=5,\n",
    "                color='blue',                # set color to an array/list of desired values\n",
    "                opacity=0.7\n",
    "            )\n",
    "        )\n",
    "    ])\n",
    "    fig_sk.update_layout(title='LinReg from Sklearn:', autosize=False,\n",
    "                  width=600, height=600,\n",
    "                  margin=dict(l=65, r=50, b=65, t=90))\n",
    "    fig_sk.show()\n",
    "    \n",
    "    fig_my = go.Figure(data=[\n",
    "        go.Mesh3d(\n",
    "            x=x,\n",
    "            y=y,\n",
    "            z=z_my,\n",
    "            color='red',\n",
    "            showscale=True\n",
    "        ),\n",
    "        go.Scatter3d(\n",
    "            x=x,\n",
    "            y=y,\n",
    "            z=z_true,\n",
    "            mode='markers',\n",
    "            marker=dict(\n",
    "                size=5,\n",
    "                color='blue',\n",
    "                opacity=0.7\n",
    "            )\n",
    "        )\n",
    "    ])\n",
    "    fig_my.update_layout(title='Self-written LinReg:', autosize=False,\n",
    "                  width=600, height=600,\n",
    "                  margin=dict(l=65, r=50, b=65, t=90))\n",
    "    fig_my.show()"
   ]
  },
  {
   "cell_type": "code",
   "execution_count": null,
   "metadata": {},
   "outputs": [],
   "source": []
  }
 ],
 "metadata": {
  "kernelspec": {
   "display_name": "Python 3",
   "language": "python",
   "name": "python3"
  },
  "language_info": {
   "codemirror_mode": {
    "name": "ipython",
    "version": 3
   },
   "file_extension": ".py",
   "mimetype": "text/x-python",
   "name": "python",
   "nbconvert_exporter": "python",
   "pygments_lexer": "ipython3",
   "version": "3.8.5"
  }
 },
 "nbformat": 4,
 "nbformat_minor": 1
}
